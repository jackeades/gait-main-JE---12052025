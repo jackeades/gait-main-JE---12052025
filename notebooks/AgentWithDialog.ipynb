{
 "cells": [
  {
   "metadata": {},
   "cell_type": "markdown",
   "source": "## Notebook to demo Agent class with Dialog instance.",
   "id": "f877be79d6c3e842"
  },
  {
   "cell_type": "code",
   "id": "83f95a25ddc1fccb",
   "metadata": {},
   "source": [
    "import os\n",
    "import warnings\n",
    "\n",
    "warnings.simplefilter(action=\"ignore\", category=FutureWarning)\n",
    "warnings.simplefilter(action=\"ignore\", category=UserWarning)"
   ],
   "outputs": [],
   "execution_count": null
  },
  {
   "cell_type": "code",
   "id": "5e93ce61cbbb7341",
   "metadata": {},
   "source": "from gait import Agent, Dialog",
   "outputs": [],
   "execution_count": null
  },
  {
   "cell_type": "code",
   "id": "7ed203c1-e7ce-4047-a64c-5aee27c296da",
   "metadata": {},
   "source": [
    "model = \"gpt-4.1-nano\"\n",
    "azure_url = os.environ[\"AZURE_API_URL\"]\n",
    "azure_version = os.environ[\"AZURE_API_VERSION\"]"
   ],
   "outputs": [],
   "execution_count": null
  },
  {
   "cell_type": "code",
   "id": "5b7cdc14-d0aa-4f0d-a4b0-235c6dbe0d1b",
   "metadata": {},
   "source": [
    "agent = Agent(\n",
    "    model=f\"azure/{model}\",\n",
    "    base_url=f\"{azure_url}/{model}\",\n",
    "    api_version=azure_version,\n",
    ")  # Default model is ollama_chat/llama3.2:latest."
   ],
   "outputs": [],
   "execution_count": null
  },
  {
   "metadata": {},
   "cell_type": "code",
   "source": [
    "dialog = Dialog.instance()\n",
    "dialog += \"Please respond in one short concise sentence what is the significance of the number 42!\""
   ],
   "id": "91b44da8010c6c74",
   "outputs": [],
   "execution_count": null
  },
  {
   "cell_type": "code",
   "id": "2dc0ad60-fc3c-40fe-a8dc-1e3646b1872f",
   "metadata": {},
   "source": "resp = agent(dialog=dialog)",
   "outputs": [],
   "execution_count": null
  },
  {
   "cell_type": "code",
   "id": "bff7645b-7e53-4a70-8eb1-0d0962a61ebe",
   "metadata": {},
   "source": [
    "print(resp.content)"
   ],
   "outputs": [],
   "execution_count": null
  }
 ],
 "metadata": {
  "kernelspec": {
   "display_name": "Python 3 (ipykernel)",
   "language": "python",
   "name": "python3"
  },
  "language_info": {
   "codemirror_mode": {
    "name": "ipython",
    "version": 3
   },
   "file_extension": ".py",
   "mimetype": "text/x-python",
   "name": "python",
   "nbconvert_exporter": "python",
   "pygments_lexer": "ipython3",
   "version": "3.11.12"
  }
 },
 "nbformat": 4,
 "nbformat_minor": 5
}
