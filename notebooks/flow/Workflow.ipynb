{
 "cells": [
  {
   "cell_type": "code",
   "execution_count": null,
   "id": "9564ed600c2a88bf",
   "metadata": {},
   "outputs": [],
   "source": [
    "import gait as G\n",
    "from IPython.display import Markdown, display"
   ]
  },
  {
   "cell_type": "code",
   "execution_count": null,
   "id": "08321039-c3f1-403e-9266-8891c0519fe4",
   "metadata": {},
   "outputs": [],
   "source": [
    "class GenerateOutline(G.Node):\n",
    "    def exec(\n",
    "        self,\n",
    "        sp: G.Scratchpad,\n",
    "    ) -> str:\n",
    "        topic = sp[\"topic\"]\n",
    "        agent = G.Agent(model=\"ollama_chat/gemma3:4b\", temperature=0.2)\n",
    "        resp = agent(f\"Create a detailed outline for an article about {topic}\")\n",
    "        sp[\"outline\"] = resp.content\n",
    "        return G.Node.DEFAULT"
   ]
  },
  {
   "cell_type": "code",
   "execution_count": null,
   "id": "a6d47609-a382-4964-9613-64f7b66fa344",
   "metadata": {},
   "outputs": [],
   "source": [
    "class WriteContent(G.Node):\n",
    "    def exec(\n",
    "        self,\n",
    "        sp: G.Scratchpad,\n",
    "    ) -> str:\n",
    "        outline = sp[\"outline\"]\n",
    "        agent = G.Agent(model=\"ollama_chat/gemma3:4b\", temperature=0.2)\n",
    "        resp = agent(f\"Write content based on this outline: {outline}\")\n",
    "        sp[\"content\"] = resp.content\n",
    "        return G.Node.DEFAULT"
   ]
  },
  {
   "cell_type": "code",
   "execution_count": null,
   "id": "da6aa66a-9f25-4d38-9317-2123c1f073f2",
   "metadata": {},
   "outputs": [],
   "source": [
    "class Review(G.Node):\n",
    "    def exec(\n",
    "        self,\n",
    "        sp: G.Scratchpad,\n",
    "    ) -> str:\n",
    "        content = sp[\"content\"]\n",
    "        agent = G.Agent(model=\"ollama_chat/gemma3:4b\", temperature=0.2)\n",
    "        resp = agent(f\"Review and improve this draft: {content}\")\n",
    "        sp[\"review\"] = resp.content\n",
    "        return G.Node.DEFAULT"
   ]
  },
  {
   "cell_type": "code",
   "execution_count": null,
   "id": "968e02a8-4a47-4fc1-b2ad-12c1ed8c4524",
   "metadata": {},
   "outputs": [],
   "source": [
    "(head := GenerateOutline()) >> WriteContent() >> Review()\n",
    "\n",
    "flow = G.Flow(head)\n",
    "\n",
    "flow.display_markdown()"
   ]
  },
  {
   "cell_type": "code",
   "execution_count": null,
   "id": "7bdc9e8d-b25f-4b14-83e8-67dfd8b5d3af",
   "metadata": {},
   "outputs": [],
   "source": [
    "flow(topic=\"AI Topic\") # Any argument, is placed based on the argname in the scratchpad."
   ]
  },
  {
   "cell_type": "code",
   "execution_count": null,
   "id": "ed26b18c-2ab1-4f69-ab0e-c4fb50d03413",
   "metadata": {},
   "outputs": [],
   "source": [
    "display(Markdown(flow[\"outline\"]))"
   ]
  },
  {
   "cell_type": "code",
   "execution_count": null,
   "id": "89a7e79e-747a-4a5e-85c1-5e27c61a2dd6",
   "metadata": {},
   "outputs": [],
   "source": [
    "display(Markdown(flow[\"content\"]))"
   ]
  },
  {
   "cell_type": "code",
   "execution_count": null,
   "id": "a0aaacdc-0199-438d-922a-4d1ccc985b84",
   "metadata": {},
   "outputs": [],
   "source": [
    "display(Markdown(flow[\"review\"]))"
   ]
  }
 ],
 "metadata": {
  "kernelspec": {
   "display_name": "Python 3 (ipykernel)",
   "language": "python",
   "name": "python3"
  },
  "language_info": {
   "codemirror_mode": {
    "name": "ipython",
    "version": 3
   },
   "file_extension": ".py",
   "mimetype": "text/x-python",
   "name": "python",
   "nbconvert_exporter": "python",
   "pygments_lexer": "ipython3",
   "version": "3.11.12"
  }
 },
 "nbformat": 4,
 "nbformat_minor": 5
}
