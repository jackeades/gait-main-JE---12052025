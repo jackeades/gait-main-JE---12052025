{
 "cells": [
  {
   "cell_type": "markdown",
   "id": "9edf7b211439deed",
   "metadata": {},
   "source": [
    "# Notebook to demo FELFlow."
   ]
  },
  {
   "cell_type": "code",
   "execution_count": 6,
   "id": "9ad89b02260f1c79",
   "metadata": {
    "ExecuteTime": {
     "end_time": "2025-04-23T21:17:01.764519Z",
     "start_time": "2025-04-23T21:16:58.139232Z"
    }
   },
   "outputs": [],
   "source": [
    "import os\n",
    "\n",
    "from gait import FEL, FELFlow, FELObserverConsole, Layers\n",
    "from rich.pretty import pprint"
   ]
  },
  {
   "cell_type": "code",
   "execution_count": 11,
   "id": "8598ea48-dc41-4c07-9700-b816b74579f7",
   "metadata": {
    "ExecuteTime": {
     "end_time": "2025-04-23T21:17:03.641469Z",
     "start_time": "2025-04-23T21:17:03.638726Z"
    }
   },
   "outputs": [],
   "source": [
    "fel_path = os.path.expanduser(\"~/data/NorthSea.json\")"
   ]
  },
  {
   "cell_type": "code",
   "execution_count": 12,
   "id": "1342fbdb-b5b5-4eaa-8f27-bf6c8687c96f",
   "metadata": {
    "ExecuteTime": {
     "end_time": "2025-04-23T21:17:05.790696Z",
     "start_time": "2025-04-23T21:17:05.788150Z"
    }
   },
   "outputs": [],
   "source": [
    "fel = FEL(Layers.load(layers_json))"
   ]
  },
  {
   "cell_type": "code",
   "execution_count": 13,
   "id": "28914c95-a165-451c-b320-b0e4c011b9f9",
   "metadata": {
    "ExecuteTime": {
     "end_time": "2025-04-23T21:17:10.304897Z",
     "start_time": "2025-04-23T21:17:09.368220Z"
    }
   },
   "outputs": [],
   "source": [
    "flow = FELFlow(\n",
    "    fel_path=fel_path,\n",
    "    model=\"azure/\" + os.environ[\"AZURE_API_DEPLOYMENT\"],\n",
    "    api_base=os.environ[\"AZURE_API_BASE\"],\n",
    "    api_version=os.environ[\"AZURE_API_VERSION\"],\n",
    "    observer=FELObserverConsole(),\n",
    ")"
   ]
  },
  {
   "cell_type": "code",
   "execution_count": 14,
   "id": "1a4fd03f-c353-4f51-a62f-c3d27207cc17",
   "metadata": {
    "ExecuteTime": {
     "end_time": "2025-04-23T21:17:12.703618Z",
     "start_time": "2025-04-23T21:17:12.696667Z"
    }
   },
   "outputs": [
    {
     "data": {
      "text/html": [
       "<pre style=\"white-space:pre;overflow-x:auto;line-height:normal;font-family:Menlo,'DejaVu Sans Mono',consolas,'Courier New',monospace\"><span style=\"color: #800080; text-decoration-color: #800080; font-weight: bold\">FELLine</span><span style=\"font-weight: bold\">(</span>\n",
       "<span style=\"color: #7fbf7f; text-decoration-color: #7fbf7f\">│   </span><span style=\"color: #808000; text-decoration-color: #808000\">line</span>=<span style=\"color: #008000; text-decoration-color: #008000\">'Locate pipelines that are within 10.9 kilometers of pipelines'</span>,\n",
       "<span style=\"color: #7fbf7f; text-decoration-color: #7fbf7f\">│   </span><span style=\"color: #808000; text-decoration-color: #808000\">fel</span>=<span style=\"color: #800080; text-decoration-color: #800080; font-weight: bold\">FEL2</span><span style=\"font-weight: bold\">(</span>\n",
       "<span style=\"color: #7fbf7f; text-decoration-color: #7fbf7f\">│   │   </span><span style=\"color: #808000; text-decoration-color: #808000\">layer1</span>=<span style=\"color: #008000; text-decoration-color: #008000\">'Pipelines'</span>,\n",
       "<span style=\"color: #7fbf7f; text-decoration-color: #7fbf7f\">│   │   </span><span style=\"color: #808000; text-decoration-color: #808000\">where1</span>=<span style=\"color: #008000; text-decoration-color: #008000\">''</span>,\n",
       "<span style=\"color: #7fbf7f; text-decoration-color: #7fbf7f\">│   │   </span><span style=\"color: #808000; text-decoration-color: #808000\">layer2</span>=<span style=\"color: #008000; text-decoration-color: #008000\">'Pipelines'</span>,\n",
       "<span style=\"color: #7fbf7f; text-decoration-color: #7fbf7f\">│   │   </span><span style=\"color: #808000; text-decoration-color: #808000\">where2</span>=<span style=\"color: #008000; text-decoration-color: #008000\">''</span>,\n",
       "<span style=\"color: #7fbf7f; text-decoration-color: #7fbf7f\">│   │   </span><span style=\"color: #808000; text-decoration-color: #808000\">relation</span>=<span style=\"color: #008000; text-decoration-color: #008000\">'withinDistance'</span>,\n",
       "<span style=\"color: #7fbf7f; text-decoration-color: #7fbf7f\">│   │   </span><span style=\"color: #808000; text-decoration-color: #808000\">distance</span>=<span style=\"color: #008080; text-decoration-color: #008080; font-weight: bold\">10.9</span>,\n",
       "<span style=\"color: #7fbf7f; text-decoration-color: #7fbf7f\">│   │   </span><span style=\"color: #808000; text-decoration-color: #808000\">unit</span>=<span style=\"color: #008000; text-decoration-color: #008000\">'kilometers'</span>\n",
       "<span style=\"color: #7fbf7f; text-decoration-color: #7fbf7f\">│   </span><span style=\"font-weight: bold\">)</span>\n",
       "<span style=\"font-weight: bold\">)</span>\n",
       "</pre>\n"
      ],
      "text/plain": [
       "\u001b[1;35mFELLine\u001b[0m\u001b[1m(\u001b[0m\n",
       "\u001b[2;32m│   \u001b[0m\u001b[33mline\u001b[0m=\u001b[32m'Locate pipelines that are within 10.9 kilometers of pipelines'\u001b[0m,\n",
       "\u001b[2;32m│   \u001b[0m\u001b[33mfel\u001b[0m=\u001b[1;35mFEL2\u001b[0m\u001b[1m(\u001b[0m\n",
       "\u001b[2;32m│   │   \u001b[0m\u001b[33mlayer1\u001b[0m=\u001b[32m'Pipelines'\u001b[0m,\n",
       "\u001b[2;32m│   │   \u001b[0m\u001b[33mwhere1\u001b[0m=\u001b[32m''\u001b[0m,\n",
       "\u001b[2;32m│   │   \u001b[0m\u001b[33mlayer2\u001b[0m=\u001b[32m'Pipelines'\u001b[0m,\n",
       "\u001b[2;32m│   │   \u001b[0m\u001b[33mwhere2\u001b[0m=\u001b[32m''\u001b[0m,\n",
       "\u001b[2;32m│   │   \u001b[0m\u001b[33mrelation\u001b[0m=\u001b[32m'withinDistance'\u001b[0m,\n",
       "\u001b[2;32m│   │   \u001b[0m\u001b[33mdistance\u001b[0m=\u001b[1;36m10\u001b[0m\u001b[1;36m.9\u001b[0m,\n",
       "\u001b[2;32m│   │   \u001b[0m\u001b[33munit\u001b[0m=\u001b[32m'kilometers'\u001b[0m\n",
       "\u001b[2;32m│   \u001b[0m\u001b[1m)\u001b[0m\n",
       "\u001b[1m)\u001b[0m\n"
      ]
     },
     "metadata": {},
     "output_type": "display_data"
    }
   ],
   "source": [
    "fel_line = fel()\n",
    "pprint(fel_line, expand_all=True)"
   ]
  },
  {
   "cell_type": "code",
   "execution_count": 16,
   "id": "2cf6809a-0af3-436d-9d85-99f7eb70908f",
   "metadata": {
    "ExecuteTime": {
     "end_time": "2025-04-23T21:17:18.932580Z",
     "start_time": "2025-04-23T21:17:15.402770Z"
    }
   },
   "outputs": [
    {
     "name": "stdout",
     "output_type": "stream",
     "text": [
      "List wells with has formation tops excludes 0 or has npd papers != 0 that are within a distance of 18.2 kilometers of pipelines with current operator is not blank\n",
      "layer1='NorthSea\\\\Wellbores' layer2='NorthSea\\\\Pipelines'\n",
      "Locate all wells where name of the wellbore contains s and has cuttings sample is like no\n",
      "layer1='NorthSea\\\\Wellbores' layer2=''\n",
      "Show all discoveries where discovery well bore name starting with 22/25b- or where field label starts with oseberg that are within a distance of 38.5 feet of wells where discovery well bore ends with no\n",
      "layer1='NorthSea\\\\Discoveries' layer2='NorthSea\\\\Wellbores'\n",
      "Identify wells with completion date is July 85 that are within a distance of 16.6 miles of discoveries with included in field ending with no or where discovery well bore name terminated with 4\n",
      "layer1='NorthSea\\\\Wellbores' layer2='NorthSea\\\\Discoveries'\n",
      "Show all wells with has cuttings not exceeding 1 and where name of the well is 30/6-10\n",
      "layer1='NorthSea\\\\Wellbores' layer2=''\n",
      "Identify pipelines with country is blank that are in the range of 30.6 kilometers of wells\n",
      "layer1='NorthSea\\\\Pipelines' layer2='NorthSea\\\\Wellbores'\n",
      "List all wells with discovery well bore is specified (not blank)\n",
      "layer1='NorthSea\\\\Wellbores' layer2=''\n",
      "Locate all wells where has core sample is specified (not blank) that are within 74.2 feet of pipelines\n",
      "layer1='NorthSea\\\\Wellbores' layer2='NorthSea\\\\Pipelines'\n",
      "Find all discoveries that contain wells with has cuttings is greater than 1\n",
      "layer1='NorthSea\\\\Discoveries' layer2='NorthSea\\\\Wellbores'\n",
      "List wells with drilling operator that match the pattern as that are in the range of 71.2 feet of pipelines where medium excludes condensate\n",
      "layer1='NorthSea\\\\Wellbores' layer2='NorthSea\\\\Pipelines'\n",
      "Find wells with drilling operator ends with company that are within a distance of 16.2 kilometers of wells with has documentation by licensee is 1 or where has oil samples larger than 0\n",
      "layer1='NorthSea\\\\Wellbores' layer2='NorthSea\\\\Wellbores'\n",
      "Find wells with status is suspended or purpose is empty that are in the range of 3.6 kilometers of wells where has log below 0 or has cuttings is not 0\n",
      "layer1='NorthSea\\\\Wellbores' layer2='NorthSea\\\\Wellbores'\n",
      "Show all wells with well type starts with exploration\n",
      "layer1='NorthSea\\\\Wellbores' layer2=''\n",
      "Identify all wells where has core photo is above 0 or discovery well bore suffixes with yes that are within 91.7 miles of wells\n",
      "layer1='NorthSea\\\\Wellbores' layer2='NorthSea\\\\Wellbores'\n",
      "Locate all discoveries where discovery type exceeding 2 or where discovery well bore name is unspecified that are in the range of 59.3 meters of wells with has npd papers above 0 and status terminated with plugged\n",
      "layer1='NorthSea\\\\Discoveries' layer2='NorthSea\\\\Wellbores'\n",
      "Find all wells that are in the range of 9.6 feet of wells where has core photo is less than 1\n",
      "layer1='NorthSea\\\\Wellbores' layer2='NorthSea\\\\Wellbores'\n",
      "Identify wells with discovery well bore is unspecified that are within 64.5 feet of wells\n",
      "layer1='NorthSea\\\\Wellbores' layer2='NorthSea\\\\Wellbores'\n",
      "Locate all wells with source contains nlog or where water depth in meters ranging from 85.0 to 148.0\n",
      "layer1='NorthSea\\\\Wellbores' layer2=''\n",
      "Find wells with name of the wellbore is specified (not blank) or water depth in meters between 65.0 and 117.0\n",
      "layer1='NorthSea\\\\Wellbores' layer2=''\n",
      "Find wells that are in the range of 95.5 meters of discoveries\n",
      "layer1='NorthSea\\\\Wellbores' layer2='NorthSea\\\\Discoveries'\n",
      "layer1='NorthSea\\\\Wellbores' layer2=''\n",
      "Locate all pipelines with dimension is different from 12.75\n",
      "layer='NorthSea\\\\Pipelines' where='dimension <> 12.75'\n",
      "Identify all wells where has documentation by licensee ranging from 1 to 1\n",
      "layer='NorthSea\\\\Wellbores' where='doc_by_licensee BETWEEN 1 AND 1'\n",
      "Locate all wells where has documentation by licensee ranging from 1 to 1 and production licence starting with 016\n",
      "layer='NorthSea\\\\Wellbores' where=\"doc_by_licensee BETWEEN 1 AND 1 and production_licence LIKE '016%'\"\n",
      "Find all wells where entry date on July 14\n",
      "layer='NorthSea\\\\Wellbores' where=\"entry_date = timestamp '2014-07-01'\"\n",
      "Identify wells with name of the field is like snorre and where has cuttings = 0\n",
      "layer='NorthSea\\\\Wellbores' where=\"field_name LIKE '%SNORRE%' and cuttings = 0\"\n",
      "Identify all wells where drilling operator that match the pattern norway or where entry date is after November 1995\n",
      "layer='NorthSea\\\\Wellbores' where=\"drilling_operator LIKE '%Norway%' or entry_date > timestamp '1995-11-01'\"\n",
      "Find wells where well type is not blank and has core sample is not yes\n",
      "layer='NorthSea\\\\Wellbores' where=\"well_type <> '' and core_sample <> 'YES'\"\n",
      "List all wells with country is blank and where name of the wellbore is not like k03-01\n",
      "layer='NorthSea\\\\Wellbores' where=\"country = '' and wellbore_name NOT LIKE '%K03-01%'\"\n",
      "List wells with drilling operator is dong\n",
      "layer='NorthSea\\\\Wellbores' where=\"drilling_operator = 'DONG'\"\n",
      "List all wells with drilling operator is spirit energy resources limited\n",
      "layer='NorthSea\\\\Wellbores' where=\"drilling_operator = 'SPIRIT ENERGY RESOURCES LIMITED'\"\n",
      "Locate discoveries where discovery well bore name <> 21/18- 2a or included in field is not equal to yes\n",
      "layer='NorthSea\\\\Discoveries' where=\"discovery_wellbore_name <> '21/18- 2A' or included_in_field <> 'YES'\"\n",
      "Find all wells with has log is not 1 and where has formation tops <> 1\n",
      "layer='NorthSea\\\\Wellbores' where='log <> 1 and formation_tops <> 1'\n",
      "Locate wells where has oil samples = 0\n",
      "layer='NorthSea\\\\Wellbores' where='oil_samples = 0'\n",
      "Find all wells with has cuttings sample starting with no\n",
      "layer='NorthSea\\\\Wellbores' where=\"cuttings_sample LIKE 'NO%'\"\n",
      "List all wells where drilling facility contains ross\n",
      "layer='NorthSea\\\\Wellbores' where=\"drilling_facility LIKE '%ROSS%'\"\n",
      "List all wells where purpose is unspecified or empty\n",
      "layer='NorthSea\\\\Wellbores' where=\"purpose = ''\"\n",
      "Locate all wells with has mud exceeding 1 and has casing lot = 0\n",
      "layer='NorthSea\\\\Wellbores' where='mud > 1 and casing_lot = 0'\n",
      "Show all wells with completion date <> Sep 2014\n",
      "layer='NorthSea\\\\Wellbores' where=\"completion_date <> timestamp '2014-09-01'\"\n",
      "Show wells where has core photo < 0\n",
      "layer='NorthSea\\\\Wellbores' where='core_photo < 0'\n",
      "Find all wells with has mud <> 1\n",
      "layer='NorthSea\\\\Wellbores' where='mud <> 1'\n",
      "layer='NorthSea\\\\Wellbores' where='depth > 200'\n"
     ]
    },
    {
     "data": {
      "text/html": [
       "<pre style=\"white-space:pre;overflow-x:auto;line-height:normal;font-family:Menlo,'DejaVu Sans Mono',consolas,'Courier New',monospace\"><span style=\"color: #800080; text-decoration-color: #800080; font-weight: bold\">FEL1</span><span style=\"font-weight: bold\">(</span>\n",
       "<span style=\"color: #7fbf7f; text-decoration-color: #7fbf7f\">│   </span><span style=\"color: #808000; text-decoration-color: #808000\">layer</span>=<span style=\"color: #008000; text-decoration-color: #008000\">'NorthSea\\\\Wellbores'</span>,\n",
       "<span style=\"color: #7fbf7f; text-decoration-color: #7fbf7f\">│   </span><span style=\"color: #808000; text-decoration-color: #808000\">where</span>=<span style=\"color: #008000; text-decoration-color: #008000\">'depth &gt; 200'</span>\n",
       "<span style=\"font-weight: bold\">)</span>\n",
       "</pre>\n"
      ],
      "text/plain": [
       "\u001b[1;35mFEL1\u001b[0m\u001b[1m(\u001b[0m\n",
       "\u001b[2;32m│   \u001b[0m\u001b[33mlayer\u001b[0m=\u001b[32m'NorthSea\\\\Wellbores'\u001b[0m,\n",
       "\u001b[2;32m│   \u001b[0m\u001b[33mwhere\u001b[0m=\u001b[32m'depth > 200'\u001b[0m\n",
       "\u001b[1m)\u001b[0m\n"
      ]
     },
     "metadata": {},
     "output_type": "display_data"
    }
   ],
   "source": [
    "fel_line = flow(\n",
    "    #prompt=fel_line.line,\n",
    "    prompt = \"Show wells with depth > 200 meters\",\n",
    ")\n",
    "\n",
    "pprint(fel_line, expand_all=True)"
   ]
  }
 ],
 "metadata": {
  "kernelspec": {
   "display_name": "Python 3 (ipykernel)",
   "language": "python",
   "name": "python3"
  },
  "language_info": {
   "codemirror_mode": {
    "name": "ipython",
    "version": 3
   },
   "file_extension": ".py",
   "mimetype": "text/x-python",
   "name": "python",
   "nbconvert_exporter": "python",
   "pygments_lexer": "ipython3",
   "version": "3.11.12"
  }
 },
 "nbformat": 4,
 "nbformat_minor": 5
}
