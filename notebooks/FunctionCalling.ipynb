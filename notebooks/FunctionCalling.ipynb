{
 "cells": [
  {
   "metadata": {},
   "cell_type": "markdown",
   "source": "## Notebook to demo function calling with Pydantic response model.",
   "id": "36313314373864cf"
  },
  {
   "cell_type": "code",
   "id": "d44737305f74e671",
   "metadata": {
    "ExecuteTime": {
     "end_time": "2025-04-25T17:45:27.961974Z",
     "start_time": "2025-04-25T17:45:22.532935Z"
    }
   },
   "source": [
    "\n",
    "import random\n",
    "\n",
    "from faker import Faker\n",
    "from pydantic import BaseModel, Field\n",
    "from rich.pretty import pprint\n",
    "\n",
    "from gait import Agent, Dialog, ObserverLoguru"
   ],
   "outputs": [],
   "execution_count": 1
  },
  {
   "cell_type": "code",
   "id": "0efa7812-39fc-45f5-a50f-132bd715d3cf",
   "metadata": {
    "ExecuteTime": {
     "end_time": "2025-04-21T13:19:46.315572Z",
     "start_time": "2025-04-21T13:19:46.305829Z"
    }
   },
   "source": [
    "# litellm._turn_on_debug()  # 👈 this is the 1-line change you need to make"
   ],
   "outputs": [],
   "execution_count": 2
  },
  {
   "metadata": {
    "ExecuteTime": {
     "end_time": "2025-04-25T17:49:08.069262Z",
     "start_time": "2025-04-25T17:49:08.066637Z"
    }
   },
   "cell_type": "code",
   "source": [
    "class TemperatureModel(BaseModel):\n",
    "    location: str = Field(\n",
    "        ...,\n",
    "        description=\"The location where to get the temperature.\"\n",
    "    )\n",
    "    temperature: float = Field(\n",
    "        ...,\n",
    "        description=\"The temperature at the location.\"\n",
    "    )\n",
    "    unit: str = Field(\n",
    "        ...,\n",
    "        description=\"The unit of the temperature.\"\n",
    "    )"
   ],
   "id": "801f9ead2ceefd23",
   "outputs": [],
   "execution_count": 2
  },
  {
   "cell_type": "code",
   "id": "095d2174-e9d7-4480-aca1-9cb774b25845",
   "metadata": {
    "ExecuteTime": {
     "end_time": "2025-04-25T17:50:00.445061Z",
     "start_time": "2025-04-25T17:50:00.442536Z"
    }
   },
   "source": [
    "def get_temperature_at_location(location: str) -> TemperatureModel:\n",
    "    \"\"\"Get temperature in Fahrenheit at a location.\n",
    "\n",
    "    :param location: The location where to get the temperature. Location can be a place, city, state, zipcode or a country.\n",
    "    \"\"\"\n",
    "    return TemperatureModel(\n",
    "        location=location,\n",
    "        temperature=int(random.uniform(-5, 40) * 10.0) / 10.0,\n",
    "        unit=\"F\",\n",
    "    )"
   ],
   "outputs": [],
   "execution_count": 3
  },
  {
   "cell_type": "code",
   "id": "7a4de5ac-6619-4e28-a5c5-39458820da25",
   "metadata": {
    "ExecuteTime": {
     "end_time": "2025-04-25T17:51:45.458506Z",
     "start_time": "2025-04-25T17:51:45.405667Z"
    }
   },
   "source": [
    "fake = Faker()"
   ],
   "outputs": [],
   "execution_count": 4
  },
  {
   "cell_type": "code",
   "id": "a789eaa4-a813-4ae6-b491-0e26ac24c00d",
   "metadata": {
    "ExecuteTime": {
     "end_time": "2025-04-25T17:51:52.242666Z",
     "start_time": "2025-04-25T17:51:52.240357Z"
    }
   },
   "source": [
    "def logger_fn_pprint(call_dict) -> None:\n",
    "    pprint(call_dict, expand_all=True)"
   ],
   "outputs": [],
   "execution_count": 5
  },
  {
   "cell_type": "code",
   "id": "c61b08ba-7ac0-4a99-b98c-b8080d735601",
   "metadata": {
    "ExecuteTime": {
     "end_time": "2025-04-25T17:57:20.691645Z",
     "start_time": "2025-04-25T17:57:20.689831Z"
    }
   },
   "source": [
    "agent = Agent(\n",
    "    model=\"ollama_chat/llama3.2:latest\",\n",
    "    # model=\"ollama_chat/qwen2.5:7b-instruct-fp16\",\n",
    "    # model=f\"azure/{os.environ['AZURE_API_DEPLOYMENT']}\",\n",
    "    # model=\"ollama_chat/granite3.2:8b-instruct-q8_0\",\n",
    "    functions=[get_temperature_at_location],\n",
    "    temperature=0.0,\n",
    "    # logger_fn=logger_fn_pprint,\n",
    ")"
   ],
   "outputs": [],
   "execution_count": 15
  },
  {
   "cell_type": "code",
   "id": "97012aa8-5483-4b4b-96fb-51adb9b3d2d8",
   "metadata": {
    "ExecuteTime": {
     "end_time": "2025-04-25T17:58:15.210499Z",
     "start_time": "2025-04-25T17:58:15.204281Z"
    }
   },
   "source": [
    "observer = ObserverLoguru()"
   ],
   "outputs": [],
   "execution_count": 24
  },
  {
   "cell_type": "code",
   "id": "fb0da190-6dd9-4a66-9641-959fa7e58b16",
   "metadata": {
    "ExecuteTime": {
     "end_time": "2025-04-25T17:58:23.900971Z",
     "start_time": "2025-04-25T17:58:22.925263Z"
    }
   },
   "source": [
    "dialog = Dialog.instance()\n",
    "dialog += f\"Get the temperature in {fake.city()}\"\n",
    "\n",
    "for _ in range(10):\n",
    "    resp = agent(\n",
    "        dialog=dialog,\n",
    "        observer=observer,\n",
    "    )\n",
    "    if resp.content:\n",
    "        print(resp.content)\n",
    "        break"
   ],
   "outputs": [
    {
     "name": "stderr",
     "output_type": "stream",
     "text": [
      "13:58:23 | INFO | Content: \n",
      "13:58:23 | INFO | Function: get_temperature_at_location({\"location\": \"New Patrickview\"})\n",
      "13:58:23 | INFO | Observation: {\"location\":\"New Patrickview\",\"temperature\":30.5,\"unit\":\"F\"}\n",
      "/Users/mraad/GWorkspace/gait/.venv/lib/python3.11/site-packages/pydantic/main.py:463: UserWarning: Pydantic serializer warnings:\n",
      "  PydanticSerializationUnexpectedValue(Expected `ChatCompletionMessageToolCall` - serialized value may not be as expected [input_value={'function': {'arguments'...fc', 'type': 'function'}, input_type=dict])\n",
      "  return self.__pydantic_serializer__.to_python(\n",
      "13:58:23 | INFO | Content: The current temperature in New Patrickview is 30.5°F (Fahrenheit).\n"
     ]
    },
    {
     "name": "stdout",
     "output_type": "stream",
     "text": [
      "The current temperature in New Patrickview is 30.5°F (Fahrenheit).\n"
     ]
    }
   ],
   "execution_count": 29
  },
  {
   "metadata": {},
   "cell_type": "code",
   "outputs": [],
   "execution_count": null,
   "source": "",
   "id": "30b6376b5451abbd"
  }
 ],
 "metadata": {
  "kernelspec": {
   "display_name": "Python 3 (ipykernel)",
   "language": "python",
   "name": "python3"
  },
  "language_info": {
   "codemirror_mode": {
    "name": "ipython",
    "version": 3
   },
   "file_extension": ".py",
   "mimetype": "text/x-python",
   "name": "python",
   "nbconvert_exporter": "python",
   "pygments_lexer": "ipython3",
   "version": "3.11.12"
  }
 },
 "nbformat": 4,
 "nbformat_minor": 5
}
