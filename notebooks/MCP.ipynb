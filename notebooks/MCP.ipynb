{
 "cells": [
  {
   "cell_type": "code",
   "id": "0f7910a1-fdb3-4e56-a708-ce7f7ca3d627",
   "metadata": {},
   "source": [
    "from faker import Faker\n",
    "from mcp import ClientSession\n",
    "from mcp.client.sse import sse_client\n",
    "from rich.pretty import pprint"
   ],
   "outputs": [],
   "execution_count": null
  },
  {
   "cell_type": "code",
   "id": "bbc58c8d-f66f-4d62-859e-32a4832e5484",
   "metadata": {},
   "source": [
    "async with sse_client(\"http://localhost:8000/sse\") as (read, write):\n",
    "    async with ClientSession(read, write) as session:\n",
    "        await session.initialize()\n",
    "        tools = await session.list_tools()\n",
    "        pprint(tools, expand_all=True)"
   ],
   "outputs": [],
   "execution_count": null
  },
  {
   "cell_type": "code",
   "id": "3fd75382-e945-4119-8239-e19e0155bc5e",
   "metadata": {},
   "source": [
    "async with sse_client(\"http://localhost:8000/sse\") as (read, write):\n",
    "    async with ClientSession(read, write) as session:\n",
    "        await session.initialize()\n",
    "        fake = Faker()\n",
    "        city = fake.city()\n",
    "        print(f\"Getting temperature for: {city}\")\n",
    "        result = await session.call_tool(\"get_temperature\", {\"location\": city})\n",
    "        pprint(result, expand_all=True)"
   ],
   "outputs": [],
   "execution_count": null
  }
 ],
 "metadata": {
  "kernelspec": {
   "display_name": "Python 3 (ipykernel)",
   "language": "python",
   "name": "python3"
  },
  "language_info": {
   "codemirror_mode": {
    "name": "ipython",
    "version": 3
   },
   "file_extension": ".py",
   "mimetype": "text/x-python",
   "name": "python",
   "nbconvert_exporter": "python",
   "pygments_lexer": "ipython3",
   "version": "3.11.12"
  }
 },
 "nbformat": 4,
 "nbformat_minor": 5
}
