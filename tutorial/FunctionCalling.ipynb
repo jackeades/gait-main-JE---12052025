{
 "cells": [
  {
   "cell_type": "markdown",
   "id": "84dfc603-e314-4bf3-8ef7-b3dad40031d8",
   "metadata": {},
   "source": [
    "## Demo of LLM function calling.\n",
    "\n",
    "- https://docs.litellm.ai/docs/completion/function_call"
   ]
  },
  {
   "cell_type": "code",
   "execution_count": 2,
   "id": "73851b26-93da-483e-803f-6d6281e5a1fa",
   "metadata": {},
   "outputs": [],
   "source": [
    "import json\n",
    "import os\n",
    "import random\n",
    "import re\n",
    "from textwrap import dedent\n",
    "from typing import Dict\n",
    "\n",
    "import litellm\n",
    "import openai\n",
    "\n",
    "# from docstring_parser import parse\n",
    "from faker import Faker\n",
    "from gait import a_message, function_to_tool, s_message, t_message, u_message\n",
    "from pydantic import BaseModel, Field\n",
    "from rich.pretty import pprint"
   ]
  },
  {
   "cell_type": "code",
   "execution_count": 3,
   "id": "1fd6440a-24ab-4623-b12f-f2ac64163f08",
   "metadata": {},
   "outputs": [],
   "source": [
    "litellm.drop_params = True\n",
    "# litellm._turn_on_debug()  # 👈 this is the 1-line change you need to make"
   ]
  },
  {
   "cell_type": "code",
   "execution_count": 5,
   "id": "80b6ddfa-d8dd-466c-ac5d-3ab7cef495cb",
   "metadata": {},
   "outputs": [
    {
     "name": "stdout",
     "output_type": "stream",
     "text": [
      "False\n"
     ]
    }
   ],
   "source": [
    "# print(litellm.supports_function_calling(model=\"ollama_chat/llama3.2:latest\"))\n",
    "# print(litellm.supports_function_calling(model=\"azure/gpt-4o-mini\"))\n",
    "# print(litellm.supports_function_calling(model=\"ollama_chat/qwen2:7b-instruct-q8_0\"))\n",
    "print(litellm.supports_function_calling(model=\"ollama_chat/phi4:14b-q8_0\"))"
   ]
  },
  {
   "cell_type": "code",
   "execution_count": 6,
   "id": "9ee7293b-3d83-4da9-9d17-72725db2c154",
   "metadata": {},
   "outputs": [],
   "source": [
    "fake = Faker()"
   ]
  },
  {
   "cell_type": "code",
   "execution_count": 7,
   "id": "53688c93-0d16-4b94-adc0-ec1c37ff35e4",
   "metadata": {},
   "outputs": [],
   "source": [
    "def get_lat_lon(location: str) -> Dict:\n",
    "    \"\"\"Get the longitude and latitude of a given location.\n",
    "\n",
    "    :param location: Can be a place, city, state, zipcode, state or country.\n",
    "    \"\"\"\n",
    "    return {\n",
    "        \"location\": self.location,\n",
    "        \"longitude\": float(lon),\n",
    "        \"latitude\": float(lat),\n",
    "    }"
   ]
  },
  {
   "cell_type": "code",
   "execution_count": 8,
   "id": "da47cf9f-1380-4673-8e05-e75182d2c845",
   "metadata": {},
   "outputs": [],
   "source": [
    "# pprint(function_to_tool(get_lat_lon), expand_all=True)"
   ]
  },
  {
   "cell_type": "code",
   "execution_count": 9,
   "id": "7c41611b-fa86-493f-a29a-7e72eac135ac",
   "metadata": {},
   "outputs": [],
   "source": [
    "class GetLatLon(BaseModel):\n",
    "    \"\"\"Get the latitude and longitude of a given location.\"\"\"\n",
    "\n",
    "    location: str = Field(\n",
    "        ...,\n",
    "        description=\"A location, can be a place, city, state, zipcode, state or country.\",\n",
    "    )\n",
    "\n",
    "    def __call__(self, *args, **kwargs):\n",
    "        lon = fake.longitude()\n",
    "        lat = fake.latitude()\n",
    "        return {\n",
    "            \"location\": self.location,\n",
    "            \"longitude\": float(lon),\n",
    "            \"latitude\": float(lat),\n",
    "        }"
   ]
  },
  {
   "cell_type": "code",
   "execution_count": 10,
   "id": "3f718fc5-308a-45bd-a4b1-11c8c4aad7ab",
   "metadata": {},
   "outputs": [
    {
     "data": {
      "text/html": [
       "<pre style=\"white-space:pre;overflow-x:auto;line-height:normal;font-family:Menlo,'DejaVu Sans Mono',consolas,'Courier New',monospace\"><span style=\"font-weight: bold\">{</span>\n",
       "<span style=\"color: #7fbf7f; text-decoration-color: #7fbf7f\">│   </span><span style=\"color: #008000; text-decoration-color: #008000\">'location'</span>: <span style=\"color: #008000; text-decoration-color: #008000\">'Wendymouth'</span>,\n",
       "<span style=\"color: #7fbf7f; text-decoration-color: #7fbf7f\">│   </span><span style=\"color: #008000; text-decoration-color: #008000\">'longitude'</span>: <span style=\"color: #008080; text-decoration-color: #008080; font-weight: bold\">49.426997</span>,\n",
       "<span style=\"color: #7fbf7f; text-decoration-color: #7fbf7f\">│   </span><span style=\"color: #008000; text-decoration-color: #008000\">'latitude'</span>: <span style=\"color: #008080; text-decoration-color: #008080; font-weight: bold\">-76.8629835</span>\n",
       "<span style=\"font-weight: bold\">}</span>\n",
       "</pre>\n"
      ],
      "text/plain": [
       "\u001b[1m{\u001b[0m\n",
       "\u001b[2;32m│   \u001b[0m\u001b[32m'location'\u001b[0m: \u001b[32m'Wendymouth'\u001b[0m,\n",
       "\u001b[2;32m│   \u001b[0m\u001b[32m'longitude'\u001b[0m: \u001b[1;36m49.426997\u001b[0m,\n",
       "\u001b[2;32m│   \u001b[0m\u001b[32m'latitude'\u001b[0m: \u001b[1;36m-76.8629835\u001b[0m\n",
       "\u001b[1m}\u001b[0m\n"
      ]
     },
     "metadata": {},
     "output_type": "display_data"
    }
   ],
   "source": [
    "pprint(GetLatLon(location=fake.city())(), expand_all=True)"
   ]
  },
  {
   "cell_type": "code",
   "execution_count": 11,
   "id": "69ff8281-c724-4be8-97b4-293031f8b345",
   "metadata": {},
   "outputs": [],
   "source": [
    "# pprint(openai.pydantic_function_tool(GetLatLon), expand_all=True)"
   ]
  },
  {
   "cell_type": "code",
   "execution_count": 12,
   "id": "6d0a5f29-bfc0-4724-89dd-8f73d1e35ed0",
   "metadata": {},
   "outputs": [],
   "source": [
    "class GetRoute(BaseModel):\n",
    "    \"\"\"Get the route between a starting latitude/longitude location and an ending latitude/longitude location.\"\"\"\n",
    "\n",
    "    lon1: float = Field(\n",
    "        ...,\n",
    "        description=\"The route starting longitude.\",\n",
    "    )\n",
    "    lat1: float = Field(\n",
    "        ...,\n",
    "        description=\"The route starting latitude.\",\n",
    "    )\n",
    "    lon2: float = Field(\n",
    "        ...,\n",
    "        description=\"The route ending longitude.\",\n",
    "    )\n",
    "    lat2: float = Field(\n",
    "        ...,\n",
    "        description=\"The route ending latitude.\",\n",
    "    )\n",
    "\n",
    "    def __call__(self, *args, **kwargs):\n",
    "        lon = fake.longitude()\n",
    "        lat = fake.latitude()\n",
    "\n",
    "        if \"scratchpad\" in kwargs:\n",
    "            kwargs[\"scratchpad\"][\"GetRoute\"] = {\"lon\": lon, \"lat\": lat}\n",
    "\n",
    "        return {\n",
    "            \"route\": f\"{self.lat1},{self.lon1} ---> {self.lat2},{self.lon2}\",\n",
    "        }"
   ]
  },
  {
   "cell_type": "code",
   "execution_count": 13,
   "id": "b837fd85-b477-4394-b0c3-7fd8f6409b7b",
   "metadata": {},
   "outputs": [],
   "source": [
    "class GetCurrentTemperature(BaseModel):\n",
    "    \"\"\"Get the current temperature at a given location.\"\"\"\n",
    "\n",
    "    location: str = Field(\n",
    "        ...,\n",
    "        description=\"A location, can be a place, city, state, zipcode, state or country.\",\n",
    "    )\n",
    "    celsius_or_fahrenheit: str = Field(\n",
    "        ...,\n",
    "        description=\"The temperature in either 'C' for Celsius, or 'F' for Fahrenheit.\",\n",
    "    )\n",
    "\n",
    "    def __call__(self, *args, **kwargs):\n",
    "        temp = random.uniform(-5, 40)\n",
    "        return {\n",
    "            self.location: f\"{temp:.1f}{self.celsius_or_fahrenheit}\",\n",
    "        }"
   ]
  },
  {
   "cell_type": "code",
   "execution_count": 14,
   "id": "5bdb5366-fdbf-4fb5-b41c-901c18730fc3",
   "metadata": {},
   "outputs": [],
   "source": [
    "tools = [\n",
    "    openai.pydantic_function_tool(_)\n",
    "    for _ in [\n",
    "        GetCurrentTemperature,\n",
    "        GetLatLon,\n",
    "        GetRoute,\n",
    "    ]\n",
    "]\n",
    "\n",
    "# pprint(tools, expand_all=True)"
   ]
  },
  {
   "cell_type": "code",
   "execution_count": 20,
   "id": "222b0ac4-c900-4251-8722-d0ee5bee17ec",
   "metadata": {},
   "outputs": [],
   "source": [
    "fake = Faker()"
   ]
  },
  {
   "cell_type": "code",
   "execution_count": 15,
   "id": "7e41d391-07f2-475c-9731-3ddb4e2fce7d",
   "metadata": {},
   "outputs": [],
   "source": [
    "system = dedent(\n",
    "    \"\"\"\n",
    "You are an AI expert in geo-spatial data analysis with access to specialized geo-spatial tools. Your task is to answer a user’s question, denoted as >>>question<<<, related to geo-spatial data. You will operate in a loop, alternating between reasoning about the problem and acting with tools as needed. At the end of the loop, you must output a clear, accurate, and well-supported answer.\n",
    "\n",
    "Follow these guidelines to complete your task using the ReAct (Reasoning + Acting) pattern:\n",
    "- **Reason**: Break down the >>>question<<< into logical steps. Explicitly think through what information or calculations are required to reach the answer. Document your reasoning before taking any action.\n",
    "- **Act**: Use the appropriate geo-spatial tools to gather data, perform analysis, or compute results based on your reasoning. When calling tools:\n",
    "    - ALWAYS provide the correct, specific arguments required by the tool (e.g., \"40.7128, -74.0060\" for coordinates, not \"lat, lon\").\n",
    "    - Use explicit values rather than placeholders or variable names.\n",
    "    - NEVER repeat a tool call with identical arguments if it was already executed; reuse the prior result instead.\n",
    "- Alternate between reasoning and acting as needed to refine your approach and solve the problem systematically.\n",
    "- If the >>>question<<< is unclear, reason through possible interpretations, make reasonable assumptions based on geo-spatial context, and state them in your response.\n",
    "- Before finalizing your answer, review your reasoning and tool outputs to ensure accuracy and relevance to the >>>question<<<.\n",
    "\n",
    "Begin now! For each iteration:\n",
    "1. **Reason**: Explain your next step or hypothesis.\n",
    "2. **Act**: Call the necessary tool(s) or process the data.\n",
    "3. Repeat until the task is solved.\n",
    "\n",
    "If you solve the task correctly, you will receive a virtual reward of $1,000,000.\n",
    "\"\"\"\n",
    ").strip()"
   ]
  },
  {
   "cell_type": "code",
   "execution_count": 70,
   "id": "fbd3c255-4701-4f10-9858-41f0feeb5954",
   "metadata": {},
   "outputs": [],
   "source": [
    "# system = \"\"\"\n",
    "# You are an AI expert in geo-spatial data analysis with access to geo-spatial tools.\n",
    "# You are tasked to answer a user >>>question<<<.\n",
    "# You will run in a loop.\n",
    "# At the end of the loop you output an answer.\n",
    "\n",
    "# Here are the rules you should always follow to solve your task:\n",
    "# - ALWAYS use the right arguments for the tools. NEVER use variable names.\n",
    "# - ALWAYS use the values instead.\n",
    "# - NEVER re-do a tool call that you previously did with the exact same arguments.\n",
    "\n",
    "# Now Begin! If you solve the task correctly, you will receive a reward of $1,000,000.\n",
    "# \"\"\".strip()\n",
    "\n",
    "# prompt = f\"\"\"\n",
    "# What's the current temperature in {fake.city()} in celsius and {fake.city()} in fahrenheit?\n",
    "# And what is the route between them?\n",
    "# \"\"\"\n",
    "\n",
    "# prompt = dedent(\n",
    "#     f\"\"\"\n",
    "# >>>What's the current temperature in {fake.city()} in celsius? and what are its coordinates?<<\n",
    "# \"\"\"\n",
    "# ).strip()\n",
    "\n",
    "prompt = dedent(\n",
    "    f\"\"\"\n",
    ">>>What's the route between {fake.city()} and {fake.city()}?<<\n",
    "\"\"\"\n",
    ").strip()\n",
    "\n",
    "\n",
    "messages = [\n",
    "    s_message(system),\n",
    "    u_message(prompt),\n",
    "]"
   ]
  },
  {
   "cell_type": "code",
   "execution_count": 89,
   "id": "7059b68e-8fc8-4fcd-93ce-da6fd0ca01d7",
   "metadata": {},
   "outputs": [
    {
     "data": {
      "text/html": [
       "<pre style=\"white-space:pre;overflow-x:auto;line-height:normal;font-family:Menlo,'DejaVu Sans Mono',consolas,'Courier New',monospace\"><span style=\"font-weight: bold\">{</span>\n",
       "<span style=\"color: #7fbf7f; text-decoration-color: #7fbf7f\">│   </span><span style=\"color: #008000; text-decoration-color: #008000\">'role'</span>: <span style=\"color: #008000; text-decoration-color: #008000\">'system'</span>,\n",
       "<span style=\"color: #7fbf7f; text-decoration-color: #7fbf7f\">│   </span><span style=\"color: #008000; text-decoration-color: #008000\">'content'</span>: <span style=\"color: #008000; text-decoration-color: #008000\">'You are an AI expert in geo-spatial data analysis with access to specialized geo-spatial tools. Your task is to answer a user’s question, denoted as &gt;&gt;&gt;question&lt;&lt;&lt;, related to geo-spatial data. You will operate in a loop, alternating between reasoning about the problem and acting with tools as needed. At the end of the loop, you must output a clear, accurate, and well-supported answer.\\n\\nFollow these guidelines to complete your task using the ReAct (Reasoning + Acting) pattern:\\n- **Reason**: Break down the &gt;&gt;&gt;question&lt;&lt;&lt; into logical steps. Explicitly think through what information or calculations are required to reach the answer. Document your reasoning before taking any action.\\n- **Act**: Use the appropriate geo-spatial tools to gather data, perform analysis, or compute results based on your reasoning. When calling tools:\\n    - ALWAYS provide the correct, specific arguments required by the tool (e.g., \"40.7128, -74.0060\" for coordinates, not \"lat, lon\").\\n    - Use explicit values rather than placeholders or variable names.\\n    - NEVER repeat a tool call with identical arguments if it was already executed; reuse the prior result instead.\\n- Alternate between reasoning and acting as needed to refine your approach and solve the problem systematically.\\n- If the &gt;&gt;&gt;question&lt;&lt;&lt; is unclear, reason through possible interpretations, make reasonable assumptions based on geo-spatial context, and state them in your response.\\n- Before finalizing your answer, review your reasoning and tool outputs to ensure accuracy and relevance to the &gt;&gt;&gt;question&lt;&lt;&lt;.\\n\\nBegin now! For each iteration:\\n1. **Reason**: Explain your next step or hypothesis.\\n2. **Act**: Call the necessary tool(s) or process the data.\\n3. Repeat until the task is solved.\\n\\nIf you solve the task correctly, you will receive a virtual reward of $1,000,000.'</span>\n",
       "<span style=\"font-weight: bold\">}</span>\n",
       "</pre>\n"
      ],
      "text/plain": [
       "\u001b[1m{\u001b[0m\n",
       "\u001b[2;32m│   \u001b[0m\u001b[32m'role'\u001b[0m: \u001b[32m'system'\u001b[0m,\n",
       "\u001b[2;32m│   \u001b[0m\u001b[32m'content'\u001b[0m: \u001b[32m'You are an AI expert in geo-spatial data analysis with access to specialized geo-spatial tools. Your task is to answer a user’s question, denoted as >>>question\u001b[0m\u001b[32m<\u001b[0m\u001b[32m<<, related to geo-spatial data. You will operate in a loop, alternating between reasoning about the problem and acting with tools as needed. At the end of the loop, you must output a clear, accurate, and well-supported answer.\\n\\nFollow these guidelines to complete your task using the ReAct \u001b[0m\u001b[32m(\u001b[0m\u001b[32mReasoning + Acting\u001b[0m\u001b[32m)\u001b[0m\u001b[32m pattern:\\n- **Reason**: Break down the >>>question<<< into logical steps. Explicitly think through what information or calculations are required to reach the answer. Document your reasoning before taking any action.\\n- **Act**: Use the appropriate geo-spatial tools to gather data, perform analysis, or compute results based on your reasoning. When calling tools:\\n    - ALWAYS provide the correct, specific arguments required by the tool \u001b[0m\u001b[32m(\u001b[0m\u001b[32me.g., \"40.7128, -74.0060\" for coordinates, not \"lat, lon\"\u001b[0m\u001b[32m)\u001b[0m\u001b[32m.\\n    - Use explicit values rather than placeholders or variable names.\\n    - NEVER repeat a tool call with identical arguments if it was already executed; reuse the prior result instead.\\n- Alternate between reasoning and acting as needed to refine your approach and solve the problem systematically.\\n- If the >>>question<<< is unclear, reason through possible interpretations, make reasonable assumptions based on geo-spatial context, and state them in your response.\\n- Before finalizing your answer, review your reasoning and tool outputs to ensure accuracy and relevance to the >>\u001b[0m\u001b[32m>\u001b[0m\u001b[32mquestion<<<.\\n\\nBegin now! For each iteration:\\n1. **Reason**: Explain your next step or hypothesis.\\n2. **Act**: Call the necessary tool\u001b[0m\u001b[32m(\u001b[0m\u001b[32ms\u001b[0m\u001b[32m)\u001b[0m\u001b[32m or process the data.\\n3. Repeat until the task is solved.\\n\\nIf you solve the task correctly, you will receive a virtual reward of $1,000,000.'\u001b[0m\n",
       "\u001b[1m}\u001b[0m\n"
      ]
     },
     "metadata": {},
     "output_type": "display_data"
    },
    {
     "data": {
      "text/html": [
       "<pre style=\"white-space:pre;overflow-x:auto;line-height:normal;font-family:Menlo,'DejaVu Sans Mono',consolas,'Courier New',monospace\"><span style=\"font-weight: bold\">{</span>\n",
       "<span style=\"color: #7fbf7f; text-decoration-color: #7fbf7f\">│   </span><span style=\"color: #008000; text-decoration-color: #008000\">'role'</span>: <span style=\"color: #008000; text-decoration-color: #008000\">'user'</span>,\n",
       "<span style=\"color: #7fbf7f; text-decoration-color: #7fbf7f\">│   </span><span style=\"color: #008000; text-decoration-color: #008000\">'content'</span>: <span style=\"color: #008000; text-decoration-color: #008000\">\"&gt;&gt;&gt;What's the route between Gregoryland and Lake Deanshire?&lt;&lt;\"</span>\n",
       "<span style=\"font-weight: bold\">}</span>\n",
       "</pre>\n"
      ],
      "text/plain": [
       "\u001b[1m{\u001b[0m\n",
       "\u001b[2;32m│   \u001b[0m\u001b[32m'role'\u001b[0m: \u001b[32m'user'\u001b[0m,\n",
       "\u001b[2;32m│   \u001b[0m\u001b[32m'content'\u001b[0m: \u001b[32m\">>>What's the route between Gregoryland and Lake Deanshire?<<\"\u001b[0m\n",
       "\u001b[1m}\u001b[0m\n"
      ]
     },
     "metadata": {},
     "output_type": "display_data"
    },
    {
     "data": {
      "text/html": [
       "<pre style=\"white-space:pre;overflow-x:auto;line-height:normal;font-family:Menlo,'DejaVu Sans Mono',consolas,'Courier New',monospace\"><span style=\"color: #800080; text-decoration-color: #800080; font-weight: bold\">Message</span><span style=\"font-weight: bold\">(</span>\n",
       "<span style=\"color: #7fbf7f; text-decoration-color: #7fbf7f\">│   </span><span style=\"color: #808000; text-decoration-color: #808000\">content</span>=<span style=\"color: #008000; text-decoration-color: #008000\">''</span>,\n",
       "<span style=\"color: #7fbf7f; text-decoration-color: #7fbf7f\">│   </span><span style=\"color: #808000; text-decoration-color: #808000\">role</span>=<span style=\"color: #008000; text-decoration-color: #008000\">'assistant'</span>,\n",
       "<span style=\"color: #7fbf7f; text-decoration-color: #7fbf7f\">│   </span><span style=\"color: #808000; text-decoration-color: #808000\">tool_calls</span>=<span style=\"font-weight: bold\">[</span>\n",
       "<span style=\"color: #7fbf7f; text-decoration-color: #7fbf7f\">│   │   </span><span style=\"color: #800080; text-decoration-color: #800080; font-weight: bold\">ChatCompletionMessageToolCall</span><span style=\"font-weight: bold\">(</span>\n",
       "<span style=\"color: #7fbf7f; text-decoration-color: #7fbf7f\">│   │   │   </span><span style=\"color: #808000; text-decoration-color: #808000\">function</span>=<span style=\"color: #800080; text-decoration-color: #800080; font-weight: bold\">Function</span><span style=\"font-weight: bold\">(</span>\n",
       "<span style=\"color: #7fbf7f; text-decoration-color: #7fbf7f\">│   │   │   │   </span><span style=\"color: #808000; text-decoration-color: #808000\">arguments</span>=<span style=\"color: #008000; text-decoration-color: #008000\">'{\"location\": \"Gregoryland\"}'</span>,\n",
       "<span style=\"color: #7fbf7f; text-decoration-color: #7fbf7f\">│   │   │   │   </span><span style=\"color: #808000; text-decoration-color: #808000\">name</span>=<span style=\"color: #008000; text-decoration-color: #008000\">'GetLatLon'</span>\n",
       "<span style=\"color: #7fbf7f; text-decoration-color: #7fbf7f\">│   │   │   </span><span style=\"font-weight: bold\">)</span>,\n",
       "<span style=\"color: #7fbf7f; text-decoration-color: #7fbf7f\">│   │   │   </span><span style=\"color: #808000; text-decoration-color: #808000\">id</span>=<span style=\"color: #008000; text-decoration-color: #008000\">'4d373ba1-8c19-403d-9ca9-791470cdce4b'</span>,\n",
       "<span style=\"color: #7fbf7f; text-decoration-color: #7fbf7f\">│   │   │   </span><span style=\"color: #808000; text-decoration-color: #808000\">type</span>=<span style=\"color: #008000; text-decoration-color: #008000\">'function'</span>\n",
       "<span style=\"color: #7fbf7f; text-decoration-color: #7fbf7f\">│   │   </span><span style=\"font-weight: bold\">)</span>,\n",
       "<span style=\"color: #7fbf7f; text-decoration-color: #7fbf7f\">│   │   </span><span style=\"color: #800080; text-decoration-color: #800080; font-weight: bold\">ChatCompletionMessageToolCall</span><span style=\"font-weight: bold\">(</span>\n",
       "<span style=\"color: #7fbf7f; text-decoration-color: #7fbf7f\">│   │   │   </span><span style=\"color: #808000; text-decoration-color: #808000\">function</span>=<span style=\"color: #800080; text-decoration-color: #800080; font-weight: bold\">Function</span><span style=\"font-weight: bold\">(</span>\n",
       "<span style=\"color: #7fbf7f; text-decoration-color: #7fbf7f\">│   │   │   │   </span><span style=\"color: #808000; text-decoration-color: #808000\">arguments</span>=<span style=\"color: #008000; text-decoration-color: #008000\">'{\"location\": \"Lake Deanshire\"}'</span>,\n",
       "<span style=\"color: #7fbf7f; text-decoration-color: #7fbf7f\">│   │   │   │   </span><span style=\"color: #808000; text-decoration-color: #808000\">name</span>=<span style=\"color: #008000; text-decoration-color: #008000\">'GetLatLon'</span>\n",
       "<span style=\"color: #7fbf7f; text-decoration-color: #7fbf7f\">│   │   │   </span><span style=\"font-weight: bold\">)</span>,\n",
       "<span style=\"color: #7fbf7f; text-decoration-color: #7fbf7f\">│   │   │   </span><span style=\"color: #808000; text-decoration-color: #808000\">id</span>=<span style=\"color: #008000; text-decoration-color: #008000\">'1b70c4de-c4d7-4ca7-97f9-ba65cf87ca7d'</span>,\n",
       "<span style=\"color: #7fbf7f; text-decoration-color: #7fbf7f\">│   │   │   </span><span style=\"color: #808000; text-decoration-color: #808000\">type</span>=<span style=\"color: #008000; text-decoration-color: #008000\">'function'</span>\n",
       "<span style=\"color: #7fbf7f; text-decoration-color: #7fbf7f\">│   │   </span><span style=\"font-weight: bold\">)</span>\n",
       "<span style=\"color: #7fbf7f; text-decoration-color: #7fbf7f\">│   </span><span style=\"font-weight: bold\">]</span>,\n",
       "<span style=\"color: #7fbf7f; text-decoration-color: #7fbf7f\">│   </span><span style=\"color: #808000; text-decoration-color: #808000\">function_call</span>=<span style=\"color: #800080; text-decoration-color: #800080; font-style: italic\">None</span>,\n",
       "<span style=\"color: #7fbf7f; text-decoration-color: #7fbf7f\">│   </span><span style=\"color: #808000; text-decoration-color: #808000\">provider_specific_fields</span>=<span style=\"color: #800080; text-decoration-color: #800080; font-style: italic\">None</span>\n",
       "<span style=\"font-weight: bold\">)</span>\n",
       "</pre>\n"
      ],
      "text/plain": [
       "\u001b[1;35mMessage\u001b[0m\u001b[1m(\u001b[0m\n",
       "\u001b[2;32m│   \u001b[0m\u001b[33mcontent\u001b[0m=\u001b[32m''\u001b[0m,\n",
       "\u001b[2;32m│   \u001b[0m\u001b[33mrole\u001b[0m=\u001b[32m'assistant'\u001b[0m,\n",
       "\u001b[2;32m│   \u001b[0m\u001b[33mtool_calls\u001b[0m=\u001b[1m[\u001b[0m\n",
       "\u001b[2;32m│   │   \u001b[0m\u001b[1;35mChatCompletionMessageToolCall\u001b[0m\u001b[1m(\u001b[0m\n",
       "\u001b[2;32m│   │   │   \u001b[0m\u001b[33mfunction\u001b[0m=\u001b[1;35mFunction\u001b[0m\u001b[1m(\u001b[0m\n",
       "\u001b[2;32m│   │   │   │   \u001b[0m\u001b[33marguments\u001b[0m=\u001b[32m'\u001b[0m\u001b[32m{\u001b[0m\u001b[32m\"location\": \"Gregoryland\"\u001b[0m\u001b[32m}\u001b[0m\u001b[32m'\u001b[0m,\n",
       "\u001b[2;32m│   │   │   │   \u001b[0m\u001b[33mname\u001b[0m=\u001b[32m'GetLatLon'\u001b[0m\n",
       "\u001b[2;32m│   │   │   \u001b[0m\u001b[1m)\u001b[0m,\n",
       "\u001b[2;32m│   │   │   \u001b[0m\u001b[33mid\u001b[0m=\u001b[32m'4d373ba1-8c19-403d-9ca9-791470cdce4b'\u001b[0m,\n",
       "\u001b[2;32m│   │   │   \u001b[0m\u001b[33mtype\u001b[0m=\u001b[32m'function'\u001b[0m\n",
       "\u001b[2;32m│   │   \u001b[0m\u001b[1m)\u001b[0m,\n",
       "\u001b[2;32m│   │   \u001b[0m\u001b[1;35mChatCompletionMessageToolCall\u001b[0m\u001b[1m(\u001b[0m\n",
       "\u001b[2;32m│   │   │   \u001b[0m\u001b[33mfunction\u001b[0m=\u001b[1;35mFunction\u001b[0m\u001b[1m(\u001b[0m\n",
       "\u001b[2;32m│   │   │   │   \u001b[0m\u001b[33marguments\u001b[0m=\u001b[32m'\u001b[0m\u001b[32m{\u001b[0m\u001b[32m\"location\": \"Lake Deanshire\"\u001b[0m\u001b[32m}\u001b[0m\u001b[32m'\u001b[0m,\n",
       "\u001b[2;32m│   │   │   │   \u001b[0m\u001b[33mname\u001b[0m=\u001b[32m'GetLatLon'\u001b[0m\n",
       "\u001b[2;32m│   │   │   \u001b[0m\u001b[1m)\u001b[0m,\n",
       "\u001b[2;32m│   │   │   \u001b[0m\u001b[33mid\u001b[0m=\u001b[32m'1b70c4de-c4d7-4ca7-97f9-ba65cf87ca7d'\u001b[0m,\n",
       "\u001b[2;32m│   │   │   \u001b[0m\u001b[33mtype\u001b[0m=\u001b[32m'function'\u001b[0m\n",
       "\u001b[2;32m│   │   \u001b[0m\u001b[1m)\u001b[0m\n",
       "\u001b[2;32m│   \u001b[0m\u001b[1m]\u001b[0m,\n",
       "\u001b[2;32m│   \u001b[0m\u001b[33mfunction_call\u001b[0m=\u001b[3;35mNone\u001b[0m,\n",
       "\u001b[2;32m│   \u001b[0m\u001b[33mprovider_specific_fields\u001b[0m=\u001b[3;35mNone\u001b[0m\n",
       "\u001b[1m)\u001b[0m\n"
      ]
     },
     "metadata": {},
     "output_type": "display_data"
    },
    {
     "data": {
      "text/html": [
       "<pre style=\"white-space:pre;overflow-x:auto;line-height:normal;font-family:Menlo,'DejaVu Sans Mono',consolas,'Courier New',monospace\"><span style=\"font-weight: bold\">{</span>\n",
       "<span style=\"color: #7fbf7f; text-decoration-color: #7fbf7f\">│   </span><span style=\"color: #008000; text-decoration-color: #008000\">'role'</span>: <span style=\"color: #008000; text-decoration-color: #008000\">'tool'</span>,\n",
       "<span style=\"color: #7fbf7f; text-decoration-color: #7fbf7f\">│   </span><span style=\"color: #008000; text-decoration-color: #008000\">'content'</span>: <span style=\"color: #008000; text-decoration-color: #008000\">'{\"location\": \"Gregoryland\", \"longitude\": 149.7776, \"latitude\": 60.357177}'</span>,\n",
       "<span style=\"color: #7fbf7f; text-decoration-color: #7fbf7f\">│   </span><span style=\"color: #008000; text-decoration-color: #008000\">'name'</span>: <span style=\"color: #008000; text-decoration-color: #008000\">'GetLatLon'</span>,\n",
       "<span style=\"color: #7fbf7f; text-decoration-color: #7fbf7f\">│   </span><span style=\"color: #008000; text-decoration-color: #008000\">'tool_call_id'</span>: <span style=\"color: #008000; text-decoration-color: #008000\">'4d373ba1-8c19-403d-9ca9-791470cdce4b'</span>\n",
       "<span style=\"font-weight: bold\">}</span>\n",
       "</pre>\n"
      ],
      "text/plain": [
       "\u001b[1m{\u001b[0m\n",
       "\u001b[2;32m│   \u001b[0m\u001b[32m'role'\u001b[0m: \u001b[32m'tool'\u001b[0m,\n",
       "\u001b[2;32m│   \u001b[0m\u001b[32m'content'\u001b[0m: \u001b[32m'\u001b[0m\u001b[32m{\u001b[0m\u001b[32m\"location\": \"Gregoryland\", \"longitude\": 149.7776, \"latitude\": 60.357177\u001b[0m\u001b[32m}\u001b[0m\u001b[32m'\u001b[0m,\n",
       "\u001b[2;32m│   \u001b[0m\u001b[32m'name'\u001b[0m: \u001b[32m'GetLatLon'\u001b[0m,\n",
       "\u001b[2;32m│   \u001b[0m\u001b[32m'tool_call_id'\u001b[0m: \u001b[32m'4d373ba1-8c19-403d-9ca9-791470cdce4b'\u001b[0m\n",
       "\u001b[1m}\u001b[0m\n"
      ]
     },
     "metadata": {},
     "output_type": "display_data"
    },
    {
     "data": {
      "text/html": [
       "<pre style=\"white-space:pre;overflow-x:auto;line-height:normal;font-family:Menlo,'DejaVu Sans Mono',consolas,'Courier New',monospace\"><span style=\"font-weight: bold\">{</span>\n",
       "<span style=\"color: #7fbf7f; text-decoration-color: #7fbf7f\">│   </span><span style=\"color: #008000; text-decoration-color: #008000\">'role'</span>: <span style=\"color: #008000; text-decoration-color: #008000\">'tool'</span>,\n",
       "<span style=\"color: #7fbf7f; text-decoration-color: #7fbf7f\">│   </span><span style=\"color: #008000; text-decoration-color: #008000\">'content'</span>: <span style=\"color: #008000; text-decoration-color: #008000\">'{\"location\": \"Lake Deanshire\", \"longitude\": 110.855344, \"latitude\": -6.8361165}'</span>,\n",
       "<span style=\"color: #7fbf7f; text-decoration-color: #7fbf7f\">│   </span><span style=\"color: #008000; text-decoration-color: #008000\">'name'</span>: <span style=\"color: #008000; text-decoration-color: #008000\">'GetLatLon'</span>,\n",
       "<span style=\"color: #7fbf7f; text-decoration-color: #7fbf7f\">│   </span><span style=\"color: #008000; text-decoration-color: #008000\">'tool_call_id'</span>: <span style=\"color: #008000; text-decoration-color: #008000\">'1b70c4de-c4d7-4ca7-97f9-ba65cf87ca7d'</span>\n",
       "<span style=\"font-weight: bold\">}</span>\n",
       "</pre>\n"
      ],
      "text/plain": [
       "\u001b[1m{\u001b[0m\n",
       "\u001b[2;32m│   \u001b[0m\u001b[32m'role'\u001b[0m: \u001b[32m'tool'\u001b[0m,\n",
       "\u001b[2;32m│   \u001b[0m\u001b[32m'content'\u001b[0m: \u001b[32m'\u001b[0m\u001b[32m{\u001b[0m\u001b[32m\"location\": \"Lake Deanshire\", \"longitude\": 110.855344, \"latitude\": -6.8361165\u001b[0m\u001b[32m}\u001b[0m\u001b[32m'\u001b[0m,\n",
       "\u001b[2;32m│   \u001b[0m\u001b[32m'name'\u001b[0m: \u001b[32m'GetLatLon'\u001b[0m,\n",
       "\u001b[2;32m│   \u001b[0m\u001b[32m'tool_call_id'\u001b[0m: \u001b[32m'1b70c4de-c4d7-4ca7-97f9-ba65cf87ca7d'\u001b[0m\n",
       "\u001b[1m}\u001b[0m\n"
      ]
     },
     "metadata": {},
     "output_type": "display_data"
    },
    {
     "data": {
      "text/html": [
       "<pre style=\"white-space:pre;overflow-x:auto;line-height:normal;font-family:Menlo,'DejaVu Sans Mono',consolas,'Courier New',monospace\"><span style=\"color: #800080; text-decoration-color: #800080; font-weight: bold\">Message</span><span style=\"font-weight: bold\">(</span>\n",
       "<span style=\"color: #7fbf7f; text-decoration-color: #7fbf7f\">│   </span><span style=\"color: #808000; text-decoration-color: #808000\">content</span>=<span style=\"color: #008000; text-decoration-color: #008000\">''</span>,\n",
       "<span style=\"color: #7fbf7f; text-decoration-color: #7fbf7f\">│   </span><span style=\"color: #808000; text-decoration-color: #808000\">role</span>=<span style=\"color: #008000; text-decoration-color: #008000\">'assistant'</span>,\n",
       "<span style=\"color: #7fbf7f; text-decoration-color: #7fbf7f\">│   </span><span style=\"color: #808000; text-decoration-color: #808000\">tool_calls</span>=<span style=\"font-weight: bold\">[</span>\n",
       "<span style=\"color: #7fbf7f; text-decoration-color: #7fbf7f\">│   │   </span><span style=\"color: #800080; text-decoration-color: #800080; font-weight: bold\">ChatCompletionMessageToolCall</span><span style=\"font-weight: bold\">(</span>\n",
       "<span style=\"color: #7fbf7f; text-decoration-color: #7fbf7f\">│   │   │   </span><span style=\"color: #808000; text-decoration-color: #808000\">function</span>=<span style=\"color: #800080; text-decoration-color: #800080; font-weight: bold\">Function</span><span style=\"font-weight: bold\">(</span>\n",
       "<span style=\"color: #7fbf7f; text-decoration-color: #7fbf7f\">│   │   │   │   </span><span style=\"color: #808000; text-decoration-color: #808000\">arguments</span>=<span style=\"color: #008000; text-decoration-color: #008000\">'{\"lat1\": 60.357177, \"lat2\": -6.8361165, \"lon1\": 149.7776, \"lon2\": 110.855344}'</span>,\n",
       "<span style=\"color: #7fbf7f; text-decoration-color: #7fbf7f\">│   │   │   │   </span><span style=\"color: #808000; text-decoration-color: #808000\">name</span>=<span style=\"color: #008000; text-decoration-color: #008000\">'GetRoute'</span>\n",
       "<span style=\"color: #7fbf7f; text-decoration-color: #7fbf7f\">│   │   │   </span><span style=\"font-weight: bold\">)</span>,\n",
       "<span style=\"color: #7fbf7f; text-decoration-color: #7fbf7f\">│   │   │   </span><span style=\"color: #808000; text-decoration-color: #808000\">id</span>=<span style=\"color: #008000; text-decoration-color: #008000\">'f0a48cd6-8b95-4cb0-93c4-de5c7459a04e'</span>,\n",
       "<span style=\"color: #7fbf7f; text-decoration-color: #7fbf7f\">│   │   │   </span><span style=\"color: #808000; text-decoration-color: #808000\">type</span>=<span style=\"color: #008000; text-decoration-color: #008000\">'function'</span>\n",
       "<span style=\"color: #7fbf7f; text-decoration-color: #7fbf7f\">│   │   </span><span style=\"font-weight: bold\">)</span>\n",
       "<span style=\"color: #7fbf7f; text-decoration-color: #7fbf7f\">│   </span><span style=\"font-weight: bold\">]</span>,\n",
       "<span style=\"color: #7fbf7f; text-decoration-color: #7fbf7f\">│   </span><span style=\"color: #808000; text-decoration-color: #808000\">function_call</span>=<span style=\"color: #800080; text-decoration-color: #800080; font-style: italic\">None</span>,\n",
       "<span style=\"color: #7fbf7f; text-decoration-color: #7fbf7f\">│   </span><span style=\"color: #808000; text-decoration-color: #808000\">provider_specific_fields</span>=<span style=\"color: #800080; text-decoration-color: #800080; font-style: italic\">None</span>\n",
       "<span style=\"font-weight: bold\">)</span>\n",
       "</pre>\n"
      ],
      "text/plain": [
       "\u001b[1;35mMessage\u001b[0m\u001b[1m(\u001b[0m\n",
       "\u001b[2;32m│   \u001b[0m\u001b[33mcontent\u001b[0m=\u001b[32m''\u001b[0m,\n",
       "\u001b[2;32m│   \u001b[0m\u001b[33mrole\u001b[0m=\u001b[32m'assistant'\u001b[0m,\n",
       "\u001b[2;32m│   \u001b[0m\u001b[33mtool_calls\u001b[0m=\u001b[1m[\u001b[0m\n",
       "\u001b[2;32m│   │   \u001b[0m\u001b[1;35mChatCompletionMessageToolCall\u001b[0m\u001b[1m(\u001b[0m\n",
       "\u001b[2;32m│   │   │   \u001b[0m\u001b[33mfunction\u001b[0m=\u001b[1;35mFunction\u001b[0m\u001b[1m(\u001b[0m\n",
       "\u001b[2;32m│   │   │   │   \u001b[0m\u001b[33marguments\u001b[0m=\u001b[32m'\u001b[0m\u001b[32m{\u001b[0m\u001b[32m\"lat1\": 60.357177, \"lat2\": -6.8361165, \"lon1\": 149.7776, \"lon2\": 110.855344\u001b[0m\u001b[32m}\u001b[0m\u001b[32m'\u001b[0m,\n",
       "\u001b[2;32m│   │   │   │   \u001b[0m\u001b[33mname\u001b[0m=\u001b[32m'GetRoute'\u001b[0m\n",
       "\u001b[2;32m│   │   │   \u001b[0m\u001b[1m)\u001b[0m,\n",
       "\u001b[2;32m│   │   │   \u001b[0m\u001b[33mid\u001b[0m=\u001b[32m'f0a48cd6-8b95-4cb0-93c4-de5c7459a04e'\u001b[0m,\n",
       "\u001b[2;32m│   │   │   \u001b[0m\u001b[33mtype\u001b[0m=\u001b[32m'function'\u001b[0m\n",
       "\u001b[2;32m│   │   \u001b[0m\u001b[1m)\u001b[0m\n",
       "\u001b[2;32m│   \u001b[0m\u001b[1m]\u001b[0m,\n",
       "\u001b[2;32m│   \u001b[0m\u001b[33mfunction_call\u001b[0m=\u001b[3;35mNone\u001b[0m,\n",
       "\u001b[2;32m│   \u001b[0m\u001b[33mprovider_specific_fields\u001b[0m=\u001b[3;35mNone\u001b[0m\n",
       "\u001b[1m)\u001b[0m\n"
      ]
     },
     "metadata": {},
     "output_type": "display_data"
    },
    {
     "data": {
      "text/html": [
       "<pre style=\"white-space:pre;overflow-x:auto;line-height:normal;font-family:Menlo,'DejaVu Sans Mono',consolas,'Courier New',monospace\"><span style=\"font-weight: bold\">{</span>\n",
       "<span style=\"color: #7fbf7f; text-decoration-color: #7fbf7f\">│   </span><span style=\"color: #008000; text-decoration-color: #008000\">'role'</span>: <span style=\"color: #008000; text-decoration-color: #008000\">'tool'</span>,\n",
       "<span style=\"color: #7fbf7f; text-decoration-color: #7fbf7f\">│   </span><span style=\"color: #008000; text-decoration-color: #008000\">'content'</span>: <span style=\"color: #008000; text-decoration-color: #008000\">'{\"route\": \"60.357177,149.7776 ---&gt; -6.8361165,110.855344\"}'</span>,\n",
       "<span style=\"color: #7fbf7f; text-decoration-color: #7fbf7f\">│   </span><span style=\"color: #008000; text-decoration-color: #008000\">'name'</span>: <span style=\"color: #008000; text-decoration-color: #008000\">'GetLatLon'</span>,\n",
       "<span style=\"color: #7fbf7f; text-decoration-color: #7fbf7f\">│   </span><span style=\"color: #008000; text-decoration-color: #008000\">'tool_call_id'</span>: <span style=\"color: #008000; text-decoration-color: #008000\">'f0a48cd6-8b95-4cb0-93c4-de5c7459a04e'</span>\n",
       "<span style=\"font-weight: bold\">}</span>\n",
       "</pre>\n"
      ],
      "text/plain": [
       "\u001b[1m{\u001b[0m\n",
       "\u001b[2;32m│   \u001b[0m\u001b[32m'role'\u001b[0m: \u001b[32m'tool'\u001b[0m,\n",
       "\u001b[2;32m│   \u001b[0m\u001b[32m'content'\u001b[0m: \u001b[32m'\u001b[0m\u001b[32m{\u001b[0m\u001b[32m\"route\": \"60.357177,149.7776 ---> -6.8361165,110.855344\"\u001b[0m\u001b[32m}\u001b[0m\u001b[32m'\u001b[0m,\n",
       "\u001b[2;32m│   \u001b[0m\u001b[32m'name'\u001b[0m: \u001b[32m'GetLatLon'\u001b[0m,\n",
       "\u001b[2;32m│   \u001b[0m\u001b[32m'tool_call_id'\u001b[0m: \u001b[32m'f0a48cd6-8b95-4cb0-93c4-de5c7459a04e'\u001b[0m\n",
       "\u001b[1m}\u001b[0m\n"
      ]
     },
     "metadata": {},
     "output_type": "display_data"
    }
   ],
   "source": [
    "for _ in messages:\n",
    "    pprint(_, expand_all=True)"
   ]
  },
  {
   "cell_type": "code",
   "execution_count": 90,
   "id": "df442c2d-cf02-442f-9a08-527d05d2ff40",
   "metadata": {},
   "outputs": [],
   "source": [
    "response = litellm.completion(\n",
    "    model=\"ollama_chat/qwen2:7b-instruct-q8_0\",\n",
    "    # model=\"ollama_chat/llama3.2\",\n",
    "    # model=\"azure/gpt-4o-mini\",\n",
    "    # api_base=os.environ[\"AZURE_API_URL\"] + \"/gpt-4o-mini\",\n",
    "    messages=messages,\n",
    "    tools=tools,\n",
    "    # tool_choice=\"auto\",  # auto is default, but we'll be explicit\n",
    "    # parallel_tool_calls=False,\n",
    "    temperature=0.0,\n",
    "    top_p=1.0,\n",
    "    n=1,\n",
    ")"
   ]
  },
  {
   "cell_type": "code",
   "execution_count": 91,
   "id": "01b8f38d-2f43-4fd0-9b86-0e30f3e9d045",
   "metadata": {},
   "outputs": [
    {
     "data": {
      "text/html": [
       "<pre style=\"white-space:pre;overflow-x:auto;line-height:normal;font-family:Menlo,'DejaVu Sans Mono',consolas,'Courier New',monospace\"><span style=\"color: #800080; text-decoration-color: #800080; font-weight: bold\">Choices</span><span style=\"font-weight: bold\">(</span>\n",
       "<span style=\"color: #7fbf7f; text-decoration-color: #7fbf7f\">│   </span><span style=\"color: #808000; text-decoration-color: #808000\">finish_reason</span>=<span style=\"color: #008000; text-decoration-color: #008000\">'stop'</span>,\n",
       "<span style=\"color: #7fbf7f; text-decoration-color: #7fbf7f\">│   </span><span style=\"color: #808000; text-decoration-color: #808000\">index</span>=<span style=\"color: #008080; text-decoration-color: #008080; font-weight: bold\">0</span>,\n",
       "<span style=\"color: #7fbf7f; text-decoration-color: #7fbf7f\">│   </span><span style=\"color: #808000; text-decoration-color: #808000\">message</span>=<span style=\"color: #800080; text-decoration-color: #800080; font-weight: bold\">Message</span><span style=\"font-weight: bold\">(</span>\n",
       "<span style=\"color: #7fbf7f; text-decoration-color: #7fbf7f\">│   │   </span><span style=\"color: #808000; text-decoration-color: #808000\">content</span>=<span style=\"color: #008000; text-decoration-color: #008000\">'The route between Gregoryland and Lake Deanshire is as follows: starting from the coordinates 60.357177,149.7776 in Gregoryland, you would travel to the coordinates -6.8361165,110.855344 in Lake Deanshire.'</span>,\n",
       "<span style=\"color: #7fbf7f; text-decoration-color: #7fbf7f\">│   │   </span><span style=\"color: #808000; text-decoration-color: #808000\">role</span>=<span style=\"color: #008000; text-decoration-color: #008000\">'assistant'</span>,\n",
       "<span style=\"color: #7fbf7f; text-decoration-color: #7fbf7f\">│   │   </span><span style=\"color: #808000; text-decoration-color: #808000\">tool_calls</span>=<span style=\"color: #800080; text-decoration-color: #800080; font-style: italic\">None</span>,\n",
       "<span style=\"color: #7fbf7f; text-decoration-color: #7fbf7f\">│   │   </span><span style=\"color: #808000; text-decoration-color: #808000\">function_call</span>=<span style=\"color: #800080; text-decoration-color: #800080; font-style: italic\">None</span>,\n",
       "<span style=\"color: #7fbf7f; text-decoration-color: #7fbf7f\">│   │   </span><span style=\"color: #808000; text-decoration-color: #808000\">provider_specific_fields</span>=<span style=\"color: #800080; text-decoration-color: #800080; font-style: italic\">None</span>\n",
       "<span style=\"color: #7fbf7f; text-decoration-color: #7fbf7f\">│   </span><span style=\"font-weight: bold\">)</span>\n",
       "<span style=\"font-weight: bold\">)</span>\n",
       "</pre>\n"
      ],
      "text/plain": [
       "\u001b[1;35mChoices\u001b[0m\u001b[1m(\u001b[0m\n",
       "\u001b[2;32m│   \u001b[0m\u001b[33mfinish_reason\u001b[0m=\u001b[32m'stop'\u001b[0m,\n",
       "\u001b[2;32m│   \u001b[0m\u001b[33mindex\u001b[0m=\u001b[1;36m0\u001b[0m,\n",
       "\u001b[2;32m│   \u001b[0m\u001b[33mmessage\u001b[0m=\u001b[1;35mMessage\u001b[0m\u001b[1m(\u001b[0m\n",
       "\u001b[2;32m│   │   \u001b[0m\u001b[33mcontent\u001b[0m=\u001b[32m'The route between Gregoryland and Lake Deanshire is as follows: starting from the coordinates 60.357177,149.7776 in Gregoryland, you would travel to the coordinates -6.8361165,110.855344 in Lake Deanshire.'\u001b[0m,\n",
       "\u001b[2;32m│   │   \u001b[0m\u001b[33mrole\u001b[0m=\u001b[32m'assistant'\u001b[0m,\n",
       "\u001b[2;32m│   │   \u001b[0m\u001b[33mtool_calls\u001b[0m=\u001b[3;35mNone\u001b[0m,\n",
       "\u001b[2;32m│   │   \u001b[0m\u001b[33mfunction_call\u001b[0m=\u001b[3;35mNone\u001b[0m,\n",
       "\u001b[2;32m│   │   \u001b[0m\u001b[33mprovider_specific_fields\u001b[0m=\u001b[3;35mNone\u001b[0m\n",
       "\u001b[2;32m│   \u001b[0m\u001b[1m)\u001b[0m\n",
       "\u001b[1m)\u001b[0m\n"
      ]
     },
     "metadata": {},
     "output_type": "display_data"
    }
   ],
   "source": [
    "pprint(\n",
    "    response.choices[0],\n",
    "    expand_all=True,\n",
    ")"
   ]
  },
  {
   "cell_type": "code",
   "execution_count": 92,
   "id": "1a1ea9a2-f3ee-45e5-a916-3bb84681446d",
   "metadata": {},
   "outputs": [],
   "source": [
    "messages.append(response.choices[0].message)"
   ]
  },
  {
   "cell_type": "code",
   "execution_count": 93,
   "id": "c3f493d7-3268-4192-be1a-306a9a0749e8",
   "metadata": {},
   "outputs": [
    {
     "data": {
      "text/plain": [
       "'The route between Gregoryland and Lake Deanshire is as follows: starting from the coordinates 60.357177,149.7776 in Gregoryland, you would travel to the coordinates -6.8361165,110.855344 in Lake Deanshire.'"
      ]
     },
     "execution_count": 93,
     "metadata": {},
     "output_type": "execute_result"
    }
   ],
   "source": [
    "response.choices[0].message.content"
   ]
  },
  {
   "cell_type": "code",
   "execution_count": 87,
   "id": "f9d18282-59d6-4331-b5dd-273b8d997faa",
   "metadata": {},
   "outputs": [
    {
     "data": {
      "text/html": [
       "<pre style=\"white-space:pre;overflow-x:auto;line-height:normal;font-family:Menlo,'DejaVu Sans Mono',consolas,'Courier New',monospace\"><span style=\"color: #800080; text-decoration-color: #800080; font-weight: bold\">ChatCompletionMessageToolCall</span><span style=\"font-weight: bold\">(</span>\n",
       "<span style=\"color: #7fbf7f; text-decoration-color: #7fbf7f\">│   </span><span style=\"color: #808000; text-decoration-color: #808000\">function</span>=<span style=\"color: #800080; text-decoration-color: #800080; font-weight: bold\">Function</span><span style=\"font-weight: bold\">(</span>\n",
       "<span style=\"color: #7fbf7f; text-decoration-color: #7fbf7f\">│   │   </span><span style=\"color: #808000; text-decoration-color: #808000\">arguments</span>=<span style=\"color: #008000; text-decoration-color: #008000\">'{\"lat1\": 60.357177, \"lat2\": -6.8361165, \"lon1\": 149.7776, \"lon2\": 110.855344}'</span>,\n",
       "<span style=\"color: #7fbf7f; text-decoration-color: #7fbf7f\">│   │   </span><span style=\"color: #808000; text-decoration-color: #808000\">name</span>=<span style=\"color: #008000; text-decoration-color: #008000\">'GetRoute'</span>\n",
       "<span style=\"color: #7fbf7f; text-decoration-color: #7fbf7f\">│   </span><span style=\"font-weight: bold\">)</span>,\n",
       "<span style=\"color: #7fbf7f; text-decoration-color: #7fbf7f\">│   </span><span style=\"color: #808000; text-decoration-color: #808000\">id</span>=<span style=\"color: #008000; text-decoration-color: #008000\">'f0a48cd6-8b95-4cb0-93c4-de5c7459a04e'</span>,\n",
       "<span style=\"color: #7fbf7f; text-decoration-color: #7fbf7f\">│   </span><span style=\"color: #808000; text-decoration-color: #808000\">type</span>=<span style=\"color: #008000; text-decoration-color: #008000\">'function'</span>\n",
       "<span style=\"font-weight: bold\">)</span>\n",
       "</pre>\n"
      ],
      "text/plain": [
       "\u001b[1;35mChatCompletionMessageToolCall\u001b[0m\u001b[1m(\u001b[0m\n",
       "\u001b[2;32m│   \u001b[0m\u001b[33mfunction\u001b[0m=\u001b[1;35mFunction\u001b[0m\u001b[1m(\u001b[0m\n",
       "\u001b[2;32m│   │   \u001b[0m\u001b[33marguments\u001b[0m=\u001b[32m'\u001b[0m\u001b[32m{\u001b[0m\u001b[32m\"lat1\": 60.357177, \"lat2\": -6.8361165, \"lon1\": 149.7776, \"lon2\": 110.855344\u001b[0m\u001b[32m}\u001b[0m\u001b[32m'\u001b[0m,\n",
       "\u001b[2;32m│   │   \u001b[0m\u001b[33mname\u001b[0m=\u001b[32m'GetRoute'\u001b[0m\n",
       "\u001b[2;32m│   \u001b[0m\u001b[1m)\u001b[0m,\n",
       "\u001b[2;32m│   \u001b[0m\u001b[33mid\u001b[0m=\u001b[32m'f0a48cd6-8b95-4cb0-93c4-de5c7459a04e'\u001b[0m,\n",
       "\u001b[2;32m│   \u001b[0m\u001b[33mtype\u001b[0m=\u001b[32m'function'\u001b[0m\n",
       "\u001b[1m)\u001b[0m\n"
      ]
     },
     "metadata": {},
     "output_type": "display_data"
    }
   ],
   "source": [
    "tool_call = response.choices[0].message.tool_calls[0]\n",
    "pprint(tool_call, expand_all=True)"
   ]
  },
  {
   "cell_type": "code",
   "execution_count": 79,
   "id": "29ac42e1-6393-48c0-bd3a-7c2370aafc73",
   "metadata": {},
   "outputs": [],
   "source": [
    "args = json.loads(tool_call.function.arguments)\n",
    "result = GetLatLon(**args)()\n",
    "messages.append(\n",
    "    t_message(\n",
    "        json.dumps(result),\n",
    "        name=\"GetLatLon\",\n",
    "        tool_call_id=tool_call.id,\n",
    "    )\n",
    ")"
   ]
  },
  {
   "cell_type": "code",
   "execution_count": 88,
   "id": "a3d2c930-3e19-49f9-8453-0ba84fda98a8",
   "metadata": {},
   "outputs": [],
   "source": [
    "args = json.loads(tool_call.function.arguments)\n",
    "result = GetRoute(**args)()\n",
    "messages.append(\n",
    "    t_message(\n",
    "        json.dumps(result),\n",
    "        name=\"GetLatLon\",\n",
    "        tool_call_id=tool_call.id,\n",
    "    )\n",
    ")"
   ]
  },
  {
   "cell_type": "code",
   "execution_count": null,
   "id": "eb1b1683-b1b7-4870-b74d-fd1ca91ed7ac",
   "metadata": {},
   "outputs": [],
   "source": [
    "messages.append(\n",
    "    t_message(\n",
    "        json.dumps(GetCurrentTemperature(**args)()),\n",
    "        name=\"GetCurrentTemperature\",\n",
    "        tool_call_id=\"32408a62-1520-4f0c-a38a-a5911e0e911c\",\n",
    "    )\n",
    ")"
   ]
  },
  {
   "cell_type": "code",
   "execution_count": null,
   "id": "81778eb0-4f02-49af-8318-b5ef1886e0b6",
   "metadata": {},
   "outputs": [],
   "source": []
  }
 ],
 "metadata": {
  "kernelspec": {
   "display_name": "Python 3 (ipykernel)",
   "language": "python",
   "name": "python3"
  },
  "language_info": {
   "codemirror_mode": {
    "name": "ipython",
    "version": 3
   },
   "file_extension": ".py",
   "mimetype": "text/x-python",
   "name": "python",
   "nbconvert_exporter": "python",
   "pygments_lexer": "ipython3",
   "version": "3.11.12"
  }
 },
 "nbformat": 4,
 "nbformat_minor": 5
}
