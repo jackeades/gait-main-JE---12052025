{
 "cells": [
  {
   "cell_type": "code",
   "execution_count": null,
   "id": "8d370c81a9843501",
   "metadata": {},
   "outputs": [],
   "source": [
    "import os\n",
    "import uuid\n",
    "from textwrap import dedent\n",
    "\n",
    "import shapely\n",
    "from gait import MAO, Agent, ObserverLoguru, Scratchpad\n",
    "from rich.pretty import pprint"
   ]
  },
  {
   "cell_type": "code",
   "execution_count": null,
   "id": "d1035026-eac5-4c73-8722-d70c01856e13",
   "metadata": {},
   "outputs": [],
   "source": [
    "model = f\"azure/{os.environ['AZURE_API_DEPLOYMENT']}\""
   ]
  },
  {
   "cell_type": "code",
   "execution_count": null,
   "id": "41bb034b-e3c3-4600-a89d-a8c3d513e096",
   "metadata": {},
   "outputs": [],
   "source": [
    "def buffer_geometry(\n",
    "    geom_uuid: str,\n",
    "    distance_in_meters: float,\n",
    "    scratchpad: Scratchpad,\n",
    ") -> str:\n",
    "    \"\"\"Buffer a geometry referenced by a UUID by a distance in meters.\n",
    "    Return the buffered geometry UUID.\n",
    "\n",
    "    :param geom_uuid: UUID of a geometry to buffer.\n",
    "    :param distance_in_meters: The buffer distance in meters.\n",
    "    :param scratchpad: Scratchpad instance injected at runtime.\n",
    "    \"\"\"\n",
    "    geom = scratchpad[geom_uuid]\n",
    "    buff = shapely.buffer(geom, distance_in_meters)\n",
    "    buff_uuid = str(uuid.uuid4())\n",
    "    scratchpad[buff_uuid] = buff\n",
    "    return buff_uuid"
   ]
  },
  {
   "cell_type": "code",
   "execution_count": null,
   "id": "608f93aa-cc7e-4ac3-b9f9-de376a8e2959",
   "metadata": {},
   "outputs": [],
   "source": [
    "buffer_agent = Agent(\n",
    "    model=model,\n",
    "    name=\"BufferAgent\",\n",
    "    description=\"Buffer a geometry by a distance\",\n",
    "    functions=[buffer_geometry],\n",
    "    temperature=0.0,\n",
    ")"
   ]
  },
  {
   "cell_type": "code",
   "execution_count": null,
   "id": "80648eba-c50f-4e39-ad9d-b91750c77af0",
   "metadata": {},
   "outputs": [],
   "source": [
    "def send_to_buffer_agent():\n",
    "    \"\"\"Return a reference to an agent that will buffer a geometry.\"\"\"\n",
    "    return buffer_agent"
   ]
  },
  {
   "cell_type": "code",
   "execution_count": null,
   "id": "855018dd-1617-4011-b11f-a3d266778a07",
   "metadata": {},
   "outputs": [],
   "source": [
    "def wkt_to_geometry(\n",
    "    wkt: str,\n",
    "    scratchpad: Scratchpad,\n",
    ") -> str:\n",
    "    \"\"\"Parse WKT string into a geometry UUID. The following are WKT string samples: POINT (30 10) LINESTRING (30 10, 10 30, 40 40) POLYGON ((30 10, 40 40, 20 40, 10 20, 30 10))\n",
    "\n",
    "    :param wkt: The well known text to convert to a geometry UUID.\n",
    "    :param scratchpad:  Scratchpad instance injected at runtime.\n",
    "    \"\"\"\n",
    "    geom = shapely.from_wkt(wkt, on_invalid=\"ignore\")\n",
    "    geom_uuid = str(uuid.uuid4())\n",
    "    scratchpad[geom_uuid] = geom\n",
    "    return geom_uuid"
   ]
  },
  {
   "cell_type": "code",
   "execution_count": null,
   "id": "56c35e40-8779-4b34-84cb-97948b70b722",
   "metadata": {},
   "outputs": [],
   "source": [
    "wkt_to_geometry_agent = Agent(\n",
    "    model=model,\n",
    "    name=\"WKTAgent\",\n",
    "    description=\"Convert WKT string to geometry UUID\",\n",
    "    functions=[wkt_to_geometry],\n",
    "    temperature=0.0,\n",
    ")"
   ]
  },
  {
   "cell_type": "code",
   "execution_count": null,
   "id": "84efa064-3ce6-4b3d-aab2-c5ec934f13fc",
   "metadata": {},
   "outputs": [],
   "source": [
    "def send_to_wkt_to_geometry_agent():\n",
    "    \"\"\"Return a reference to an agent that will parse WKT string into a geometry UUID.\"\"\"\n",
    "    return wkt_to_geometry_agent"
   ]
  },
  {
   "cell_type": "code",
   "execution_count": null,
   "id": "a4dcc2d9-05f9-4707-9a60-8689cd3b81d1",
   "metadata": {},
   "outputs": [],
   "source": [
    "instructions = dedent(\n",
    "    \"\"\"\n",
    "Classify the user request and send it to the correct agent.\n",
    "If the use request contains a geometry in WKT, make sure to first parse it before performing any operation.\n",
    "\n",
    "The following are WKT string samples:\n",
    "    POINT (30 10)\n",
    "    LINESTRING (30 10, 10 30, 40 40)\n",
    "    POLYGON ((30 10, 40 40, 20 40, 10 20, 30 10))\n",
    "\n",
    "Make sure to send the request to one agent at the time if they are depending on each other.\n",
    "\"\"\"\n",
    ").strip()"
   ]
  },
  {
   "cell_type": "code",
   "execution_count": null,
   "id": "5426e4f3-1aed-4cb0-9989-d48175afa061",
   "metadata": {},
   "outputs": [],
   "source": [
    "classifier = Agent(\n",
    "    model=model,\n",
    "    name=\"Classifier\",\n",
    "    instructions=instructions,\n",
    "    functions=[\n",
    "        # send_to_buffer_agent,\n",
    "        # send_to_wkt_to_geometry_agent,\n",
    "        buffer_geometry,\n",
    "        wkt_to_geometry,\n",
    "    ],\n",
    "    temperature=0.0,\n",
    ")"
   ]
  },
  {
   "cell_type": "code",
   "execution_count": null,
   "id": "99231fbd-aa94-452e-8303-756ff82073e0",
   "metadata": {},
   "outputs": [],
   "source": [
    "mao = MAO(\n",
    "    agent=classifier,\n",
    "    observer=ObserverLoguru(),\n",
    ")"
   ]
  },
  {
   "cell_type": "code",
   "execution_count": null,
   "id": "c41a203e-d175-410f-9586-d162d1474300",
   "metadata": {},
   "outputs": [],
   "source": [
    "for _ in mao(\"Buffer by 20 meters POINT (10 30)\"):\n",
    "    if _.content:\n",
    "        mao.terminate()\n",
    "        print(_.content)"
   ]
  },
  {
   "cell_type": "code",
   "execution_count": null,
   "id": "d7545e0e-f685-43a5-a8ea-9febeb5db046",
   "metadata": {},
   "outputs": [],
   "source": [
    "for _ in mao.dialog:\n",
    "    pprint(_, expand_all=True)"
   ]
  }
 ],
 "metadata": {
  "kernelspec": {
   "display_name": "Python 3 (ipykernel)",
   "language": "python",
   "name": "python3"
  },
  "language_info": {
   "codemirror_mode": {
    "name": "ipython",
    "version": 3
   },
   "file_extension": ".py",
   "mimetype": "text/x-python",
   "name": "python",
   "nbconvert_exporter": "python",
   "pygments_lexer": "ipython3",
   "version": "3.11.12"
  }
 },
 "nbformat": 4,
 "nbformat_minor": 5
}
