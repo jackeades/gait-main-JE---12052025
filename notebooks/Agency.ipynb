{
 "cells": [
  {
   "metadata": {},
   "cell_type": "markdown",
   "source": "# Yet another example of Agency.",
   "id": "c4d5ec89cdae9856"
  },
  {
   "metadata": {},
   "cell_type": "code",
   "source": [
    "import os\n",
    "import textwrap\n",
    "import uuid\n",
    "\n",
    "import shapely\n",
    "from rich.pretty import pprint\n",
    "\n",
    "from gait import Agency, Agent, ObserverLoguru, OperatorLiteLLM, Scratchpad"
   ],
   "id": "89d481e0e64c9310",
   "outputs": [],
   "execution_count": null
  },
  {
   "cell_type": "code",
   "id": "58fada65-d8ed-41d7-83e1-7a52ef4f5d96",
   "metadata": {},
   "source": [
    "suffix = \"gpt-4o-preview\"\n",
    "model = f\"azure/{suffix}\"\n",
    "api_base = f\"{os.environ['AZURE_API_URL']}/{suffix}\""
   ],
   "outputs": [],
   "execution_count": null
  },
  {
   "cell_type": "code",
   "id": "4fca2767-7ea4-4a9f-beb7-ac8b051c64f9",
   "metadata": {},
   "source": [
    "def buffer_geometry(\n",
    "        geom_uuid: str,\n",
    "        distance_in_meters: float,\n",
    "        scratchpad: Scratchpad,\n",
    ") -> str:\n",
    "    \"\"\"Buffer a geometry referenced by a UUID by a distance in meters.\n",
    "    Return the buffered geometry UUID.\n",
    "\n",
    "    :param geom_uuid: UUID of a geometry to buffer.\n",
    "    :param distance_in_meters: The buffer distance in meters.\n",
    "    :param scratchpad: Scratchpad instance injected at runtime.\n",
    "    \"\"\"\n",
    "    geom = scratchpad[geom_uuid]\n",
    "    buff = shapely.buffer(geom, distance_in_meters)\n",
    "    buff_uuid = str(uuid.uuid4())\n",
    "    scratchpad[buff_uuid] = buff\n",
    "    return buff_uuid"
   ],
   "outputs": [],
   "execution_count": null
  },
  {
   "cell_type": "code",
   "id": "9549eb4e-a8ac-4244-adb4-ab8642e1296b",
   "metadata": {},
   "source": [
    "buffer_agent = Agent(\n",
    "    model=model,\n",
    "    name=\"BufferAgent\",\n",
    "    description=\"Buffer a geometry UUID by a distance\",\n",
    "    instructions=\"Buffer a geometry referenced by a UUID by a distance in meters.\",\n",
    "    functions=[buffer_geometry],\n",
    "    params=dict(\n",
    "        api_base=api_base,\n",
    "        temperature=0.0,\n",
    "        tool_choice=\"required\",\n",
    "    ),\n",
    ")"
   ],
   "outputs": [],
   "execution_count": null
  },
  {
   "cell_type": "code",
   "id": "b3188076-6ab8-485b-88f0-828b061a9289",
   "metadata": {},
   "source": [
    "def wkt_to_geometry(\n",
    "        wkt: str,\n",
    "        scratchpad: Scratchpad,\n",
    ") -> str:\n",
    "    \"\"\"Parse WKT string into a geometry UUID.\n",
    "    The following are WKT string samples:\n",
    "    POINT (30 10)\n",
    "    LINESTRING (30 10, 10 30, 40 40)\n",
    "    POLYGON ((30 10, 40 40, 20 40, 10 20, 30 10))\n",
    "\n",
    "    :param wkt: The well known text to convert to a geometry UUID.\n",
    "    :param scratchpad:  Scratchpad instance injected at runtime.\n",
    "    \"\"\"\n",
    "    geom = shapely.from_wkt(wkt, on_invalid=\"ignore\")\n",
    "    geom_uuid = str(uuid.uuid4())\n",
    "    scratchpad[geom_uuid] = geom\n",
    "    return geom_uuid"
   ],
   "outputs": [],
   "execution_count": null
  },
  {
   "cell_type": "code",
   "id": "3589cd21-ac59-400b-bdd7-b4b21790e9bc",
   "metadata": {},
   "source": [
    "wkt_agent = Agent(\n",
    "    model=model,\n",
    "    name=\"WKTAgent\",\n",
    "    description=textwrap.dedent(\n",
    "        \"\"\"\n",
    "    Convert WKT string to geometry UUID.\n",
    "    \n",
    "    The following are WKT string samples:\n",
    "    POINT (30 10)\n",
    "    LINESTRING (30 10, 10 30, 40 40)\n",
    "    POLYGON ((30 10, 40 40, 20 40, 10 20, 30 10))    \n",
    "    \"\"\"\n",
    "    ),\n",
    "    functions=[wkt_to_geometry],\n",
    "    params=dict(\n",
    "        api_base=api_base,\n",
    "        temperature=0.0,\n",
    "        tool_choice=\"required\",\n",
    "    ),\n",
    ")"
   ],
   "outputs": [],
   "execution_count": null
  },
  {
   "cell_type": "code",
   "id": "11cf6f01-8a4b-442e-a94c-8aea2e05db1a",
   "metadata": {},
   "source": [
    "report_agent = Agent(\n",
    "    model=model,\n",
    "    name=\"ReportAgent\",\n",
    "    description=\"\"\"Use this agent to report the final answer. Make sure to suffix the final answer with <ANSWER/>\"\"\",\n",
    "    params=dict(\n",
    "        api_base=api_base,\n",
    "        temperature=0.2,\n",
    "        stop=[\"<ANSWER/>\"],\n",
    "    ),\n",
    ")"
   ],
   "outputs": [],
   "execution_count": null
  },
  {
   "cell_type": "code",
   "id": "c806360a-f115-41da-9be6-15866014eee7",
   "metadata": {},
   "source": [
    "operator = OperatorLiteLLM(\n",
    "    model,\n",
    "    agents=[report_agent, buffer_agent, wkt_agent],\n",
    "    params=dict(\n",
    "        api_base=api_base,\n",
    "        tool_choice=\"required\",\n",
    "    ),\n",
    ")"
   ],
   "outputs": [],
   "execution_count": null
  },
  {
   "cell_type": "code",
   "id": "e3ab4811-38bc-4233-bec1-52ea3ff87241",
   "metadata": {},
   "source": [
    "agency = Agency(operator, observer=ObserverLoguru())\n",
    "\n",
    "for _ in agency(\"Get the UUID of the buffer of WKT POINT(10 5) by 10 meters.\"):\n",
    "    if _.agent == report_agent:\n",
    "        agency.terminate()\n",
    "        print(_.content)"
   ],
   "outputs": [],
   "execution_count": null
  },
  {
   "cell_type": "markdown",
   "id": "446c3999ebfb4f5c",
   "metadata": {},
   "source": [
    "### Get the messages in the dialog."
   ]
  },
  {
   "cell_type": "code",
   "id": "a43809dc-f9f6-4c4d-b209-dc9999390488",
   "metadata": {},
   "source": [
    "for _ in agency.dialog:\n",
    "    pprint(_, expand_all=True)"
   ],
   "outputs": [],
   "execution_count": null
  },
  {
   "cell_type": "markdown",
   "id": "2a74ab584f41d016",
   "metadata": {},
   "source": [
    "### Get the scratchpad content."
   ]
  },
  {
   "cell_type": "code",
   "id": "68700962-0acd-49e4-b568-d77d3ca3c276",
   "metadata": {},
   "source": [
    "for _ in agency.scratchpad:\n",
    "    pprint(_, expand_all=True)"
   ],
   "outputs": [],
   "execution_count": null
  }
 ],
 "metadata": {
  "kernelspec": {
   "display_name": "Python 3 (ipykernel)",
   "language": "python",
   "name": "python3"
  },
  "language_info": {
   "codemirror_mode": {
    "name": "ipython",
    "version": 3
   },
   "file_extension": ".py",
   "mimetype": "text/x-python",
   "name": "python",
   "nbconvert_exporter": "python",
   "pygments_lexer": "ipython3",
   "version": "3.11.11"
  }
 },
 "nbformat": 4,
 "nbformat_minor": 5
}
