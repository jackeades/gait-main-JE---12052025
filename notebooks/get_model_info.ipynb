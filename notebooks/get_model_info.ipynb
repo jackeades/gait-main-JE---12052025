{
 "cells": [
  {
   "cell_type": "code",
   "id": "3d53a3f8-e598-4ac2-bf23-0d4b47825bcf",
   "metadata": {
    "ExecuteTime": {
     "end_time": "2025-04-20T17:51:16.592871Z",
     "start_time": "2025-04-20T17:51:14.931551Z"
    }
   },
   "source": [
    "from litellm import get_model_info\n",
    "from rich.pretty import pprint"
   ],
   "outputs": [],
   "execution_count": 1
  },
  {
   "cell_type": "code",
   "id": "5b790fa3-73e0-4090-bbc3-deed5ae3c73f",
   "metadata": {
    "ExecuteTime": {
     "end_time": "2025-04-20T17:51:25.316196Z",
     "start_time": "2025-04-20T17:51:25.244259Z"
    }
   },
   "source": [
    "pprint(\n",
    "    get_model_info(\"ollama_chat/phi4-mini:3.8b-q8_0\"),\n",
    "    expand_all=True,\n",
    ")"
   ],
   "outputs": [
    {
     "data": {
      "text/plain": [
       "\u001B[1m{\u001B[0m\n",
       "\u001B[2;32m│   \u001B[0m\u001B[32m'key'\u001B[0m: \u001B[32m'phi4-mini:3.8b-q8_0'\u001B[0m,\n",
       "\u001B[2;32m│   \u001B[0m\u001B[32m'litellm_provider'\u001B[0m: \u001B[32m'ollama'\u001B[0m,\n",
       "\u001B[2;32m│   \u001B[0m\u001B[32m'mode'\u001B[0m: \u001B[32m'chat'\u001B[0m,\n",
       "\u001B[2;32m│   \u001B[0m\u001B[32m'supports_function_calling'\u001B[0m: \u001B[3;92mTrue\u001B[0m,\n",
       "\u001B[2;32m│   \u001B[0m\u001B[32m'input_cost_per_token'\u001B[0m: \u001B[1;36m0.0\u001B[0m,\n",
       "\u001B[2;32m│   \u001B[0m\u001B[32m'output_cost_per_token'\u001B[0m: \u001B[1;36m0.0\u001B[0m,\n",
       "\u001B[2;32m│   \u001B[0m\u001B[32m'max_tokens'\u001B[0m: \u001B[1;36m131072\u001B[0m,\n",
       "\u001B[2;32m│   \u001B[0m\u001B[32m'max_input_tokens'\u001B[0m: \u001B[1;36m131072\u001B[0m,\n",
       "\u001B[2;32m│   \u001B[0m\u001B[32m'max_output_tokens'\u001B[0m: \u001B[1;36m131072\u001B[0m,\n",
       "\u001B[2;32m│   \u001B[0m\u001B[32m'supported_openai_params'\u001B[0m: \u001B[1m[\u001B[0m\n",
       "\u001B[2;32m│   │   \u001B[0m\u001B[32m'max_tokens'\u001B[0m,\n",
       "\u001B[2;32m│   │   \u001B[0m\u001B[32m'max_completion_tokens'\u001B[0m,\n",
       "\u001B[2;32m│   │   \u001B[0m\u001B[32m'stream'\u001B[0m,\n",
       "\u001B[2;32m│   │   \u001B[0m\u001B[32m'top_p'\u001B[0m,\n",
       "\u001B[2;32m│   │   \u001B[0m\u001B[32m'temperature'\u001B[0m,\n",
       "\u001B[2;32m│   │   \u001B[0m\u001B[32m'seed'\u001B[0m,\n",
       "\u001B[2;32m│   │   \u001B[0m\u001B[32m'frequency_penalty'\u001B[0m,\n",
       "\u001B[2;32m│   │   \u001B[0m\u001B[32m'stop'\u001B[0m,\n",
       "\u001B[2;32m│   │   \u001B[0m\u001B[32m'tools'\u001B[0m,\n",
       "\u001B[2;32m│   │   \u001B[0m\u001B[32m'tool_choice'\u001B[0m,\n",
       "\u001B[2;32m│   │   \u001B[0m\u001B[32m'functions'\u001B[0m,\n",
       "\u001B[2;32m│   │   \u001B[0m\u001B[32m'response_format'\u001B[0m\n",
       "\u001B[2;32m│   \u001B[0m\u001B[1m]\u001B[0m\n",
       "\u001B[1m}\u001B[0m\n"
      ],
      "text/html": [
       "<pre style=\"white-space:pre;overflow-x:auto;line-height:normal;font-family:Menlo,'DejaVu Sans Mono',consolas,'Courier New',monospace\"><span style=\"font-weight: bold\">{</span>\n",
       "<span style=\"color: #7fbf7f; text-decoration-color: #7fbf7f\">│   </span><span style=\"color: #008000; text-decoration-color: #008000\">'key'</span>: <span style=\"color: #008000; text-decoration-color: #008000\">'phi4-mini:3.8b-q8_0'</span>,\n",
       "<span style=\"color: #7fbf7f; text-decoration-color: #7fbf7f\">│   </span><span style=\"color: #008000; text-decoration-color: #008000\">'litellm_provider'</span>: <span style=\"color: #008000; text-decoration-color: #008000\">'ollama'</span>,\n",
       "<span style=\"color: #7fbf7f; text-decoration-color: #7fbf7f\">│   </span><span style=\"color: #008000; text-decoration-color: #008000\">'mode'</span>: <span style=\"color: #008000; text-decoration-color: #008000\">'chat'</span>,\n",
       "<span style=\"color: #7fbf7f; text-decoration-color: #7fbf7f\">│   </span><span style=\"color: #008000; text-decoration-color: #008000\">'supports_function_calling'</span>: <span style=\"color: #00ff00; text-decoration-color: #00ff00; font-style: italic\">True</span>,\n",
       "<span style=\"color: #7fbf7f; text-decoration-color: #7fbf7f\">│   </span><span style=\"color: #008000; text-decoration-color: #008000\">'input_cost_per_token'</span>: <span style=\"color: #008080; text-decoration-color: #008080; font-weight: bold\">0.0</span>,\n",
       "<span style=\"color: #7fbf7f; text-decoration-color: #7fbf7f\">│   </span><span style=\"color: #008000; text-decoration-color: #008000\">'output_cost_per_token'</span>: <span style=\"color: #008080; text-decoration-color: #008080; font-weight: bold\">0.0</span>,\n",
       "<span style=\"color: #7fbf7f; text-decoration-color: #7fbf7f\">│   </span><span style=\"color: #008000; text-decoration-color: #008000\">'max_tokens'</span>: <span style=\"color: #008080; text-decoration-color: #008080; font-weight: bold\">131072</span>,\n",
       "<span style=\"color: #7fbf7f; text-decoration-color: #7fbf7f\">│   </span><span style=\"color: #008000; text-decoration-color: #008000\">'max_input_tokens'</span>: <span style=\"color: #008080; text-decoration-color: #008080; font-weight: bold\">131072</span>,\n",
       "<span style=\"color: #7fbf7f; text-decoration-color: #7fbf7f\">│   </span><span style=\"color: #008000; text-decoration-color: #008000\">'max_output_tokens'</span>: <span style=\"color: #008080; text-decoration-color: #008080; font-weight: bold\">131072</span>,\n",
       "<span style=\"color: #7fbf7f; text-decoration-color: #7fbf7f\">│   </span><span style=\"color: #008000; text-decoration-color: #008000\">'supported_openai_params'</span>: <span style=\"font-weight: bold\">[</span>\n",
       "<span style=\"color: #7fbf7f; text-decoration-color: #7fbf7f\">│   │   </span><span style=\"color: #008000; text-decoration-color: #008000\">'max_tokens'</span>,\n",
       "<span style=\"color: #7fbf7f; text-decoration-color: #7fbf7f\">│   │   </span><span style=\"color: #008000; text-decoration-color: #008000\">'max_completion_tokens'</span>,\n",
       "<span style=\"color: #7fbf7f; text-decoration-color: #7fbf7f\">│   │   </span><span style=\"color: #008000; text-decoration-color: #008000\">'stream'</span>,\n",
       "<span style=\"color: #7fbf7f; text-decoration-color: #7fbf7f\">│   │   </span><span style=\"color: #008000; text-decoration-color: #008000\">'top_p'</span>,\n",
       "<span style=\"color: #7fbf7f; text-decoration-color: #7fbf7f\">│   │   </span><span style=\"color: #008000; text-decoration-color: #008000\">'temperature'</span>,\n",
       "<span style=\"color: #7fbf7f; text-decoration-color: #7fbf7f\">│   │   </span><span style=\"color: #008000; text-decoration-color: #008000\">'seed'</span>,\n",
       "<span style=\"color: #7fbf7f; text-decoration-color: #7fbf7f\">│   │   </span><span style=\"color: #008000; text-decoration-color: #008000\">'frequency_penalty'</span>,\n",
       "<span style=\"color: #7fbf7f; text-decoration-color: #7fbf7f\">│   │   </span><span style=\"color: #008000; text-decoration-color: #008000\">'stop'</span>,\n",
       "<span style=\"color: #7fbf7f; text-decoration-color: #7fbf7f\">│   │   </span><span style=\"color: #008000; text-decoration-color: #008000\">'tools'</span>,\n",
       "<span style=\"color: #7fbf7f; text-decoration-color: #7fbf7f\">│   │   </span><span style=\"color: #008000; text-decoration-color: #008000\">'tool_choice'</span>,\n",
       "<span style=\"color: #7fbf7f; text-decoration-color: #7fbf7f\">│   │   </span><span style=\"color: #008000; text-decoration-color: #008000\">'functions'</span>,\n",
       "<span style=\"color: #7fbf7f; text-decoration-color: #7fbf7f\">│   │   </span><span style=\"color: #008000; text-decoration-color: #008000\">'response_format'</span>\n",
       "<span style=\"color: #7fbf7f; text-decoration-color: #7fbf7f\">│   </span><span style=\"font-weight: bold\">]</span>\n",
       "<span style=\"font-weight: bold\">}</span>\n",
       "</pre>\n"
      ]
     },
     "metadata": {},
     "output_type": "display_data"
    }
   ],
   "execution_count": 2
  }
 ],
 "metadata": {
  "kernelspec": {
   "display_name": "Python 3 (ipykernel)",
   "language": "python",
   "name": "python3"
  },
  "language_info": {
   "codemirror_mode": {
    "name": "ipython",
    "version": 3
   },
   "file_extension": ".py",
   "mimetype": "text/x-python",
   "name": "python",
   "nbconvert_exporter": "python",
   "pygments_lexer": "ipython3",
   "version": "3.11.11"
  }
 },
 "nbformat": 4,
 "nbformat_minor": 5
}
