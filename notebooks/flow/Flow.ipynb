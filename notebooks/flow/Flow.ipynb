{
 "cells": [
  {
   "cell_type": "markdown",
   "id": "99b49433d26fe53b",
   "metadata": {},
   "source": [
    "# Notebook to demo Flow."
   ]
  },
  {
   "cell_type": "code",
   "id": "aafd41dd-853e-4e9e-a305-b75afd549a37",
   "metadata": {
    "ExecuteTime": {
     "end_time": "2025-04-26T13:54:43.019344Z",
     "start_time": "2025-04-26T13:54:39.342915Z"
    }
   },
   "source": "import gait as G",
   "outputs": [],
   "execution_count": 1
  },
  {
   "cell_type": "markdown",
   "id": "13c554dd356264cb",
   "metadata": {},
   "source": [
    "## Create starting node."
   ]
  },
  {
   "cell_type": "code",
   "id": "957b15b8-1b98-4d5e-aa35-a0c0697bbe57",
   "metadata": {
    "ExecuteTime": {
     "end_time": "2025-04-26T13:54:43.139586Z",
     "start_time": "2025-04-26T13:54:43.137420Z"
    }
   },
   "source": [
    "class FEL0(G.Node):\n",
    "    def __init__(self) -> None:\n",
    "        super().__init__()\n",
    "        self.counter = 0\n",
    "\n",
    "    def exec(\n",
    "        self,\n",
    "        _: G.Scratchpad,\n",
    "    ) -> str:\n",
    "        self.counter += 1\n",
    "        return \"fel1\" if (self.counter & 1) == 1 else \"fel2\""
   ],
   "outputs": [],
   "execution_count": 2
  },
  {
   "cell_type": "markdown",
   "id": "21ff14cb8ec404d5",
   "metadata": {},
   "source": [
    "## Create node to handle `fel1` action."
   ]
  },
  {
   "cell_type": "code",
   "id": "fa68e86b-ff22-4c31-9bd4-1ec4b29fd48f",
   "metadata": {
    "ExecuteTime": {
     "end_time": "2025-04-26T13:54:43.421681Z",
     "start_time": "2025-04-26T13:54:43.419732Z"
    }
   },
   "source": [
    "class FEL1(G.Node):\n",
    "    def exec(\n",
    "        self,\n",
    "        _: G.Scratchpad,\n",
    "    ) -> None:\n",
    "        print(\"FEL1\")"
   ],
   "outputs": [],
   "execution_count": 3
  },
  {
   "cell_type": "markdown",
   "id": "73262f3a787c0386",
   "metadata": {},
   "source": [
    "## Create node to handle `fel2` action."
   ]
  },
  {
   "cell_type": "code",
   "id": "312b161c-2968-4f03-9ede-8496f3c70f9d",
   "metadata": {
    "ExecuteTime": {
     "end_time": "2025-04-26T13:54:50.929282Z",
     "start_time": "2025-04-26T13:54:50.927119Z"
    }
   },
   "source": [
    "class FEL2(G.Node):\n",
    "    def exec(\n",
    "        self,\n",
    "        _: G.Scratchpad,\n",
    "    ) -> None:\n",
    "        print(\"FEL2\")"
   ],
   "outputs": [],
   "execution_count": 4
  },
  {
   "cell_type": "markdown",
   "id": "6b4a117817a6a063",
   "metadata": {},
   "source": [
    "## Create the nodes and chain them."
   ]
  },
  {
   "cell_type": "code",
   "id": "3189f3fd-0855-44c2-a646-7c8c459f8e73",
   "metadata": {
    "ExecuteTime": {
     "end_time": "2025-04-26T13:54:51.650479Z",
     "start_time": "2025-04-26T13:54:51.648224Z"
    }
   },
   "source": [
    "fel0 = FEL0()\n",
    "fel1 = FEL1()\n",
    "fel2 = FEL2()\n",
    "\n",
    "_ = fel0 - \"fel1\" >> fel1\n",
    "_ = fel0 - \"fel2\" >> fel2"
   ],
   "outputs": [],
   "execution_count": 5
  },
  {
   "cell_type": "markdown",
   "id": "3f64e4fd946c0177",
   "metadata": {},
   "source": [
    "## Create a flow."
   ]
  },
  {
   "cell_type": "code",
   "id": "3853ce26-928a-44f1-b690-9b305f6149c0",
   "metadata": {
    "ExecuteTime": {
     "end_time": "2025-04-26T13:54:55.134929Z",
     "start_time": "2025-04-26T13:54:55.132928Z"
    }
   },
   "source": [
    "flow = G.Flow(fel0, observer=G.FlowObserverConsole())"
   ],
   "outputs": [],
   "execution_count": 6
  },
  {
   "cell_type": "markdown",
   "id": "b7e3c14ef5332d17",
   "metadata": {},
   "source": [
    "## Display the flow as a [mermaid](https://mermaid.js.org/) diagram."
   ]
  },
  {
   "cell_type": "code",
   "id": "38513441-ce47-42c3-a37c-3fb1f8b2b5fa",
   "metadata": {
    "ExecuteTime": {
     "end_time": "2025-04-26T13:54:57.409546Z",
     "start_time": "2025-04-26T13:54:57.405795Z"
    }
   },
   "source": [
    "flow.display_markdown()"
   ],
   "outputs": [
    {
     "data": {
      "text/plain": [
       "<IPython.core.display.Markdown object>"
      ],
      "text/markdown": "```mermaid\nflowchart LR\n6054859344[\"FEL0\"] -- \"fel1\" --> 6054858960[\"FEL1\"]\n6054859344[\"FEL0\"] -- \"fel2\" --> 6054859792[\"FEL2\"]\n```"
     },
     "metadata": {},
     "output_type": "display_data"
    }
   ],
   "execution_count": 7
  },
  {
   "cell_type": "markdown",
   "id": "4e5a5310cd8ee665",
   "metadata": {},
   "source": [
    "### Run the flow."
   ]
  },
  {
   "cell_type": "code",
   "id": "f0951c58-406d-40c3-a706-b48c04801a39",
   "metadata": {
    "ExecuteTime": {
     "end_time": "2025-04-26T13:55:08.329182Z",
     "start_time": "2025-04-26T13:55:08.327122Z"
    }
   },
   "source": [
    "flow();"
   ],
   "outputs": [
    {
     "name": "stdout",
     "output_type": "stream",
     "text": [
      "Flow started...\n",
      "FEL0 started...\n",
      "FEL0 ended.\n",
      "FEL2 started...\n",
      "FEL2\n",
      "FEL2 ended.\n",
      "Flow ended.\n"
     ]
    }
   ],
   "execution_count": 43
  }
 ],
 "metadata": {
  "kernelspec": {
   "display_name": "Python 3 (ipykernel)",
   "language": "python",
   "name": "python3"
  },
  "language_info": {
   "codemirror_mode": {
    "name": "ipython",
    "version": 3
   },
   "file_extension": ".py",
   "mimetype": "text/x-python",
   "name": "python",
   "nbconvert_exporter": "python",
   "pygments_lexer": "ipython3",
   "version": "3.11.12"
  }
 },
 "nbformat": 4,
 "nbformat_minor": 5
}
