{
 "cells": [
  {
   "cell_type": "markdown",
   "id": "2470c96dbc136a5b",
   "metadata": {},
   "source": [
    "## Notebook to demo Agent class"
   ]
  },
  {
   "cell_type": "code",
   "execution_count": 1,
   "id": "83f95a25ddc1fccb",
   "metadata": {
    "ExecuteTime": {
     "end_time": "2025-04-25T17:39:44.650493Z",
     "start_time": "2025-04-25T17:39:44.644913Z"
    }
   },
   "outputs": [],
   "source": [
    "import os\n",
    "import warnings\n",
    "\n",
    "warnings.simplefilter(action=\"ignore\", category=FutureWarning)\n",
    "warnings.simplefilter(action=\"ignore\", category=UserWarning)"
   ]
  },
  {
   "cell_type": "code",
   "execution_count": 2,
   "id": "5e93ce61cbbb7341",
   "metadata": {
    "ExecuteTime": {
     "end_time": "2025-04-25T17:42:46.349005Z",
     "start_time": "2025-04-25T17:42:46.347121Z"
    }
   },
   "outputs": [],
   "source": [
    "from gait import Agent, u_message\n",
    "from rich.pretty import pprint"
   ]
  },
  {
   "cell_type": "code",
   "execution_count": 3,
   "id": "47ff5411e92eaee1",
   "metadata": {
    "ExecuteTime": {
     "end_time": "2025-04-25T17:41:15.317967Z",
     "start_time": "2025-04-25T17:41:15.315931Z"
    }
   },
   "outputs": [],
   "source": [
    "# import litellm\n",
    "\n",
    "# litellm._turn_on_debug()"
   ]
  },
  {
   "cell_type": "code",
   "execution_count": 4,
   "id": "7ed203c1-e7ce-4047-a64c-5aee27c296da",
   "metadata": {
    "ExecuteTime": {
     "end_time": "2025-04-25T17:41:15.815780Z",
     "start_time": "2025-04-25T17:41:15.812581Z"
    }
   },
   "outputs": [],
   "source": [
    "model = \"gpt-4.1-nano\"\n",
    "azure_url = os.environ[\"AZURE_API_URL\"]\n",
    "azure_version = os.environ[\"AZURE_API_VERSION\"]"
   ]
  },
  {
   "cell_type": "code",
   "execution_count": 5,
   "id": "5b7cdc14-d0aa-4f0d-a4b0-235c6dbe0d1b",
   "metadata": {
    "ExecuteTime": {
     "end_time": "2025-04-25T17:41:16.323032Z",
     "start_time": "2025-04-25T17:41:16.320659Z"
    }
   },
   "outputs": [],
   "source": [
    "agent = Agent(\n",
    "    model=\"ollama_chat/mistral-small3.1\",\n",
    "    # model=f\"azure/{model}\",\n",
    "    # base_url=f\"{azure_url}/{model}\",\n",
    "    # api_version=azure_version,\n",
    ")"
   ]
  },
  {
   "cell_type": "code",
   "execution_count": 6,
   "id": "2dc0ad60-fc3c-40fe-a8dc-1e3646b1872f",
   "metadata": {
    "ExecuteTime": {
     "end_time": "2025-04-25T17:42:20.160350Z",
     "start_time": "2025-04-25T17:42:18.875509Z"
    }
   },
   "outputs": [],
   "source": [
    "resp = agent(\n",
    "    \"Please respond in one short concise sentence what is the significance of the number 42!\"\n",
    ")"
   ]
  },
  {
   "cell_type": "code",
   "execution_count": 7,
   "id": "4502e862e0926313",
   "metadata": {
    "ExecuteTime": {
     "end_time": "2025-04-25T17:42:57.104941Z",
     "start_time": "2025-04-25T17:42:57.098454Z"
    }
   },
   "outputs": [
    {
     "data": {
      "text/html": [
       "<pre style=\"white-space:pre;overflow-x:auto;line-height:normal;font-family:Menlo,'DejaVu Sans Mono',consolas,'Courier New',monospace\"><span style=\"color: #800080; text-decoration-color: #800080; font-weight: bold\">AgentResponse</span><span style=\"font-weight: bold\">(</span>\n",
       "<span style=\"color: #7fbf7f; text-decoration-color: #7fbf7f\">│   </span><span style=\"color: #808000; text-decoration-color: #808000\">finish_reason</span>=<span style=\"color: #008000; text-decoration-color: #008000\">'stop'</span>,\n",
       "<span style=\"color: #7fbf7f; text-decoration-color: #7fbf7f\">│   </span><span style=\"color: #808000; text-decoration-color: #808000\">content</span>=<span style=\"color: #008000; text-decoration-color: #008000\">'The number 42 is famously the \"Answer to the Ultimate Question of Life, The Universe, and Everything\" in Douglas Adams\\' \"The Hitchhiker\\'s Guide to the Galaxy.\"'</span>,\n",
       "<span style=\"color: #7fbf7f; text-decoration-color: #7fbf7f\">│   </span><span style=\"color: #808000; text-decoration-color: #808000\">agent</span>=<span style=\"color: #800080; text-decoration-color: #800080; font-weight: bold\">Agent</span><span style=\"font-weight: bold\">(</span>\n",
       "<span style=\"color: #7fbf7f; text-decoration-color: #7fbf7f\">│   │   </span><span style=\"color: #808000; text-decoration-color: #808000\">name</span>=<span style=\"color: #008000; text-decoration-color: #008000\">'Agent'</span>,\n",
       "<span style=\"color: #7fbf7f; text-decoration-color: #7fbf7f\">│   │   </span><span style=\"color: #808000; text-decoration-color: #808000\">description</span>=<span style=\"color: #008000; text-decoration-color: #008000\">'You are a helpful AI agent.'</span>,\n",
       "<span style=\"color: #7fbf7f; text-decoration-color: #7fbf7f\">│   │   </span><span style=\"color: #808000; text-decoration-color: #808000\">model</span>=<span style=\"color: #008000; text-decoration-color: #008000\">'ollama_chat/mistral-small3.1'</span>,\n",
       "<span style=\"color: #7fbf7f; text-decoration-color: #7fbf7f\">│   │   </span><span style=\"color: #808000; text-decoration-color: #808000\">instructions</span>=<span style=\"color: #008000; text-decoration-color: #008000\">'You are a helpful AI agent.'</span>,\n",
       "<span style=\"color: #7fbf7f; text-decoration-color: #7fbf7f\">│   │   </span><span style=\"color: #808000; text-decoration-color: #808000\">functions</span>=<span style=\"font-weight: bold\">[]</span>,\n",
       "<span style=\"color: #7fbf7f; text-decoration-color: #7fbf7f\">│   │   </span><span style=\"color: #808000; text-decoration-color: #808000\">params</span>=<span style=\"font-weight: bold\">{}</span>\n",
       "<span style=\"color: #7fbf7f; text-decoration-color: #7fbf7f\">│   </span><span style=\"font-weight: bold\">)</span>\n",
       "<span style=\"font-weight: bold\">)</span>\n",
       "</pre>\n"
      ],
      "text/plain": [
       "\u001b[1;35mAgentResponse\u001b[0m\u001b[1m(\u001b[0m\n",
       "\u001b[2;32m│   \u001b[0m\u001b[33mfinish_reason\u001b[0m=\u001b[32m'stop'\u001b[0m,\n",
       "\u001b[2;32m│   \u001b[0m\u001b[33mcontent\u001b[0m=\u001b[32m'The number 42 is famously the \"Answer to the Ultimate Question of Life, The Universe, and Everything\" in Douglas Adams\\' \"The Hitchhiker\\'s Guide to the Galaxy.\"'\u001b[0m,\n",
       "\u001b[2;32m│   \u001b[0m\u001b[33magent\u001b[0m=\u001b[1;35mAgent\u001b[0m\u001b[1m(\u001b[0m\n",
       "\u001b[2;32m│   │   \u001b[0m\u001b[33mname\u001b[0m=\u001b[32m'Agent'\u001b[0m,\n",
       "\u001b[2;32m│   │   \u001b[0m\u001b[33mdescription\u001b[0m=\u001b[32m'You are a helpful AI agent.'\u001b[0m,\n",
       "\u001b[2;32m│   │   \u001b[0m\u001b[33mmodel\u001b[0m=\u001b[32m'ollama_chat/mistral-small3.1'\u001b[0m,\n",
       "\u001b[2;32m│   │   \u001b[0m\u001b[33minstructions\u001b[0m=\u001b[32m'You are a helpful AI agent.'\u001b[0m,\n",
       "\u001b[2;32m│   │   \u001b[0m\u001b[33mfunctions\u001b[0m=\u001b[1m[\u001b[0m\u001b[1m]\u001b[0m,\n",
       "\u001b[2;32m│   │   \u001b[0m\u001b[33mparams\u001b[0m=\u001b[1m{\u001b[0m\u001b[1m}\u001b[0m\n",
       "\u001b[2;32m│   \u001b[0m\u001b[1m)\u001b[0m\n",
       "\u001b[1m)\u001b[0m\n"
      ]
     },
     "metadata": {},
     "output_type": "display_data"
    }
   ],
   "source": [
    "pprint(resp, expand_all=True)"
   ]
  },
  {
   "cell_type": "code",
   "execution_count": 8,
   "id": "bff7645b-7e53-4a70-8eb1-0d0962a61ebe",
   "metadata": {
    "ExecuteTime": {
     "end_time": "2025-04-25T17:43:25.790905Z",
     "start_time": "2025-04-25T17:43:25.788820Z"
    }
   },
   "outputs": [
    {
     "name": "stdout",
     "output_type": "stream",
     "text": [
      "The number 42 is famously the \"Answer to the Ultimate Question of Life, The Universe, and Everything\" in Douglas Adams' \"The Hitchhiker's Guide to the Galaxy.\"\n"
     ]
    }
   ],
   "source": [
    "print(resp.content)"
   ]
  },
  {
   "cell_type": "code",
   "execution_count": 9,
   "id": "6c64246813b65978",
   "metadata": {},
   "outputs": [],
   "source": [
    "# dialog = Dialog.instance()\n",
    "# dialog += u_message(\"base64.....\")\n",
    "# v_agent = Agent(mode=\"gpt-4-vision-preview\")\n",
    "# v_agent(dialog=dialog)"
   ]
  }
 ],
 "metadata": {
  "kernelspec": {
   "display_name": "Python 3 (ipykernel)",
   "language": "python",
   "name": "python3"
  },
  "language_info": {
   "codemirror_mode": {
    "name": "ipython",
    "version": 3
   },
   "file_extension": ".py",
   "mimetype": "text/x-python",
   "name": "python",
   "nbconvert_exporter": "python",
   "pygments_lexer": "ipython3",
   "version": "3.11.12"
  }
 },
 "nbformat": 4,
 "nbformat_minor": 5
}
