{
 "cells": [
  {
   "cell_type": "code",
   "execution_count": null,
   "id": "1207dbe35293f366",
   "metadata": {},
   "outputs": [],
   "source": [
    "from textwrap import dedent\n",
    "\n",
    "import litellm\n",
    "from pydantic import BaseModel, Field\n",
    "from rich.pretty import pprint\n",
    "\n",
    "from gait import s_message, u_message"
   ]
  },
  {
   "cell_type": "code",
   "execution_count": null,
   "id": "54863587-7848-43e3-95f2-a026f75ba519",
   "metadata": {},
   "outputs": [],
   "source": [
    "class RouteModel(BaseModel):\n",
    "    oper: str = Field(\n",
    "        ...,\n",
    "        description=\"The operation. Can be either ROUTE, GEOCODE or TEMPERATURE\",\n",
    "    )"
   ]
  },
  {
   "cell_type": "code",
   "execution_count": null,
   "id": "b85524ea-9e7f-4633-bb70-83f5354fa114",
   "metadata": {},
   "outputs": [],
   "source": [
    "system = dedent(\n",
    "    \"\"\"\n",
    "You are an expert at generating simple JSON documents that recommend one of three possible solutions.\n",
    "\n",
    "A possible >>>SOLUTION<<< is either:\n",
    "\n",
    "1. ROUTE\n",
    "2. GEOCODE\n",
    "3. TEMPERATURE\n",
    "\n",
    "ROUTE is when you have to route between two addresses, places or cities on a road network.\n",
    "GEOCODE is when you have to convert an address, city, state, zip code or country to an x,y point.\n",
    "TEMPERATURE is when you have to tell the temperature or tell the weather for any place on earth.\n",
    "\n",
    "Make sure to:\n",
    "\n",
    "1. Not generate ANY code in the answer.\n",
    "2. Only output a simple JSON document like {\"oper\":>>>SOLUTION<<<}\n",
    "3. Only recommend ONE of the possible answers.\n",
    "4. Infer and learn the correct solution based on the input.\n",
    "\"\"\"\n",
    ").strip()"
   ]
  },
  {
   "cell_type": "code",
   "execution_count": null,
   "id": "5f5105e7-c6c1-400c-b73c-744361120197",
   "metadata": {},
   "outputs": [],
   "source": [
    "messages = [\n",
    "    s_message(system),\n",
    "    # u_message(\"Show the route to San Diego from San Francisco\"),\n",
    "    u_message(\"What is the location of Florence, Italy?\"),\n",
    "    # u_message(\"What is the current temperature of Florence, Italy?\"),\n",
    "]"
   ]
  },
  {
   "cell_type": "code",
   "execution_count": null,
   "id": "a80d74be-e4fc-4b53-83d1-e005f6b54c07",
   "metadata": {},
   "outputs": [],
   "source": [
    "response = litellm.completion(\n",
    "    # model=\"ollama_chat/phi4:14b-q8_0\",\n",
    "    model=\"azure/gpt-4o-mini\",\n",
    "    # api_base=os.environ[\"AZURE_API_URL\"] + \"/gpt-4o-mini\",\n",
    "    response_format=RouteModel,\n",
    "    messages=messages,\n",
    "    temperature=0.0,\n",
    "    top_p=1.0,\n",
    "    n=1,\n",
    ")"
   ]
  },
  {
   "cell_type": "code",
   "execution_count": null,
   "id": "133b7e40-bac4-471e-9988-686a1c5508cb",
   "metadata": {},
   "outputs": [],
   "source": [
    "pprint(\n",
    "    response.choices[0],\n",
    "    expand_all=True,\n",
    ")"
   ]
  }
 ],
 "metadata": {
  "kernelspec": {
   "display_name": "Python 3 (ipykernel)",
   "language": "python",
   "name": "python3"
  },
  "language_info": {
   "codemirror_mode": {
    "name": "ipython",
    "version": 3
   },
   "file_extension": ".py",
   "mimetype": "text/x-python",
   "name": "python",
   "nbconvert_exporter": "python",
   "pygments_lexer": "ipython3",
   "version": "3.11.12"
  }
 },
 "nbformat": 4,
 "nbformat_minor": 5
}
