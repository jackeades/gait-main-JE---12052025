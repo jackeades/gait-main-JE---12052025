{
 "cells": [
  {
   "cell_type": "markdown",
   "id": "881e39cb-ff45-4335-a521-65a5bd6d6c89",
   "metadata": {},
   "source": [
    "# DSPy\n",
    "\n",
    "```terminal\n",
    "uv pip install -U dspy-ai\n",
    "```"
   ]
  },
  {
   "cell_type": "code",
   "execution_count": 2,
   "id": "8b326532-a122-4b09-bef2-9827f1890c1c",
   "metadata": {},
   "outputs": [],
   "source": [
    "from textwrap import dedent\n",
    "\n",
    "import dspy\n",
    "from IPython.display import Latex, Markdown, display\n",
    "from rich.pretty import pprint"
   ]
  },
  {
   "cell_type": "code",
   "execution_count": 3,
   "id": "04167a69-037c-4b07-b9b2-cfcb591367ec",
   "metadata": {},
   "outputs": [],
   "source": [
    "lm = dspy.LM(\n",
    "    \"ollama_chat/phi4:14b-q8_0\",\n",
    "    api_base=\"http://localhost:11434\",\n",
    "    api_key=\"ollama\",\n",
    ")\n",
    "dspy.configure(lm=lm)"
   ]
  },
  {
   "cell_type": "code",
   "execution_count": 4,
   "id": "d18f627e-9f0a-415b-9253-43cdcb3d97b9",
   "metadata": {},
   "outputs": [],
   "source": [
    "math = dspy.ChainOfThought(\"question -> answer: float\")\n",
    "pred = math(\n",
    "    # question=\"Two dice are tossed. What is the probability that the sum equals two?\"\n",
    "    question=dedent(\n",
    "        \"\"\"\n",
    "    Think step by step when answering the following >>>question<<<.\n",
    "    But only keep a minimum draft of each thinking step, with 5 words at most.\n",
    "    >>>12 - 8 + 9<<<\n",
    "    \"\"\"\n",
    "    ).strip()\n",
    ")"
   ]
  },
  {
   "cell_type": "code",
   "execution_count": 5,
   "id": "446b27fb-5b85-4f39-a0fb-d0cc33dc9d2b",
   "metadata": {},
   "outputs": [
    {
     "data": {
      "text/html": [
       "<pre style=\"white-space:pre;overflow-x:auto;line-height:normal;font-family:Menlo,'DejaVu Sans Mono',consolas,'Courier New',monospace\"><span style=\"color: #800080; text-decoration-color: #800080; font-weight: bold\">Prediction</span><span style=\"font-weight: bold\">(</span>\n",
       "<span style=\"color: #7fbf7f; text-decoration-color: #7fbf7f\">│   </span><span style=\"color: #808000; text-decoration-color: #808000\">reasoning</span>=<span style=\"color: #008000; text-decoration-color: #008000\">'12 minus 8 equals 4.  \\nAdd 9 to result.  \\nFinal sum is 13.'</span>,\n",
       "<span style=\"color: #7fbf7f; text-decoration-color: #7fbf7f\">│   </span><span style=\"color: #808000; text-decoration-color: #808000\">answer</span>=<span style=\"color: #008080; text-decoration-color: #008080; font-weight: bold\">13.0</span>\n",
       "<span style=\"font-weight: bold\">)</span>\n",
       "</pre>\n"
      ],
      "text/plain": [
       "\u001b[1;35mPrediction\u001b[0m\u001b[1m(\u001b[0m\n",
       "\u001b[2;32m│   \u001b[0m\u001b[33mreasoning\u001b[0m=\u001b[32m'12 minus 8 equals 4.  \\nAdd 9 to result.  \\nFinal sum is 13.'\u001b[0m,\n",
       "\u001b[2;32m│   \u001b[0m\u001b[33manswer\u001b[0m=\u001b[1;36m13\u001b[0m\u001b[1;36m.0\u001b[0m\n",
       "\u001b[1m)\u001b[0m\n"
      ]
     },
     "metadata": {},
     "output_type": "display_data"
    }
   ],
   "source": [
    "pprint(pred, expand_all=True)"
   ]
  },
  {
   "cell_type": "code",
   "execution_count": 6,
   "id": "d6c42f23-6419-4c36-a342-f765ca0ebe2d",
   "metadata": {},
   "outputs": [
    {
     "name": "stdout",
     "output_type": "stream",
     "text": [
      "12 minus 8 equals 4.  \n",
      "Add 9 to result.  \n",
      "Final sum is 13.\n"
     ]
    }
   ],
   "source": [
    "print(pred.reasoning)"
   ]
  },
  {
   "cell_type": "code",
   "execution_count": 7,
   "id": "3f6dcf20-5781-430b-a38b-c72d36b111bd",
   "metadata": {},
   "outputs": [
    {
     "data": {
      "text/markdown": [
       "12 minus 8 equals 4.  \n",
       "Add 9 to result.  \n",
       "Final sum is 13."
      ],
      "text/plain": [
       "<IPython.core.display.Markdown object>"
      ]
     },
     "metadata": {},
     "output_type": "display_data"
    }
   ],
   "source": [
    "display(\n",
    "    Markdown(\n",
    "        pred.reasoning\n",
    "        # Fix Latex\n",
    "        .replace(\"\\\\(\", \"\\\\$\")\n",
    "        .replace(\"\\\\)\", \"\\\\$\")\n",
    "        .replace(\"\\\\[\", \"$$\")\n",
    "        .replace(\"\\\\]\", \"$$\")\n",
    "    )\n",
    ")"
   ]
  }
 ],
 "metadata": {
  "kernelspec": {
   "display_name": "Python 3 (ipykernel)",
   "language": "python",
   "name": "python3"
  },
  "language_info": {
   "codemirror_mode": {
    "name": "ipython",
    "version": 3
   },
   "file_extension": ".py",
   "mimetype": "text/x-python",
   "name": "python",
   "nbconvert_exporter": "python",
   "pygments_lexer": "ipython3",
   "version": "3.11.12"
  }
 },
 "nbformat": 4,
 "nbformat_minor": 5
}
